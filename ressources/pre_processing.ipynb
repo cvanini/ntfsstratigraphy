{
 "cells": [
  {
   "cell_type": "code",
   "metadata": {
    "collapsed": true,
    "pycharm": {
     "name": "#%%\n"
    }
   },
   "source": [
    "import numpy as np\n",
    "import pandas as pd\n",
    "from ast import literal_eval\n",
    "from datetime import datetime"
   ],
   "execution_count": 56,
   "outputs": []
  },
  {
   "cell_type": "code",
   "execution_count": 57,
   "outputs": [],
   "source": [
    "date_parser = lambda x: datetime.strptime(x, \"%d.%m.%Y %H:%M:%S %z\")"
   ],
   "metadata": {
    "collapsed": false,
    "pycharm": {
     "name": "#%%\n"
    }
   }
  },
  {
   "cell_type": "code",
   "execution_count": 58,
   "outputs": [],
   "source": [
    "df = pd.read_csv('..\\outputs\\CT.csv', delimiter=',', low_memory=False, dtype={('ID', 'Sequence number', 'Hard link count', 'USN', 'Entry number', 'Allocation flag', 'Base record entry number', 'Base record sequence number', 'Parent entry number', 'First cluster', 'Resident', 'ADS resident', 'ADS first cluster', 'Index first cluster'): int, ('Path', 'Filename', 'Filename2', 'Base record reference'): str}, date_parser={('SI creation time', 'SI modification time', 'SI entry modification time', 'SI last accessed time', 'FN creation time', 'FN modification time', 'FN entry modification time', 'FN last accessed time'): date_parser})"
   ],
   "metadata": {
    "collapsed": false,
    "pycharm": {
     "name": "#%%\n"
    }
   }
  },
  {
   "cell_type": "code",
   "execution_count": 59,
   "outputs": [
    {
     "data": {
      "text/plain": "   ID  Sequence number FILE/BAAD        LSN  Hard link count  Allocation flag  \\\n0   0                1      FILE  403619793                1                1   \n1   1                1      FILE   33560283                1                1   \n2   2                2      FILE   33560353                1                1   \n3   3                3      FILE  218769397                1                1   \n4   4                4      FILE  474188404                1                1   \n5   5                5      FILE  492368653                1                3   \n6   6                6      FILE  492359579                1                1   \n7   7                7      FILE          0                1                1   \n8   8                8      FILE  236350224                1                1   \n9   9                9      FILE  220061830                1                9   \n\n  Allocation flag (verbose)  Entry number  Base record reference  \\\n0         01 (Visible file)             0                      0   \n1         01 (Visible file)             1                      0   \n2         01 (Visible file)             2                      0   \n3         01 (Visible file)             3                      0   \n4         01 (Visible file)             4                      0   \n5    03 (Visible directory)             5                      0   \n6         01 (Visible file)             6                      0   \n7         01 (Visible file)             7                      0   \n8         01 (Visible file)             8                      0   \n9   Unknown allocation flag             9                      0   \n\n   Base record entry number  ...  Filename2  \\\n0                         0  ...        NaN   \n1                         0  ...        NaN   \n2                         0  ...        NaN   \n3                         0  ...        NaN   \n4                         0  ...        NaN   \n5                         0  ...        NaN   \n6                         0  ...        NaN   \n7                         0  ...        NaN   \n8                         0  ...        NaN   \n9                         0  ...        NaN   \n\n                                            Run list First cluster Resident  \\\n0  [(786432, 26048), (3226912, 3714), (2034988, 6...      786432.0      1.0   \n1                                           [(2, 1)]           2.0      1.0   \n2                                  [(766321, 16384)]      766321.0      1.0   \n3                                                NaN           NaN      0.0   \n4                                      [(867413, 1)]      867413.0      1.0   \n5                                                NaN           NaN      NaN   \n6                                   [(782705, 3722)]      782705.0      1.0   \n7                                           [(0, 2)]           0.0      1.0   \n8                                                NaN           NaN      0.0   \n9                                                NaN           NaN      NaN   \n\n       ADS Run list ADS first cluster ADS resident  Index flag Index Run list  \\\n0               NaN               NaN          NaN         NaN            NaN   \n1               NaN               NaN          NaN         NaN            NaN   \n2               NaN               NaN          NaN         NaN            NaN   \n3               NaN               NaN          NaN         NaN            NaN   \n4               NaN               NaN          NaN         NaN            NaN   \n5               NaN               NaN          NaN         1.0       [(5, 2)]   \n6               NaN               NaN          NaN         NaN            NaN   \n7               NaN               NaN          NaN         NaN            NaN   \n8  [(0, 121932652)]               0.0          1.0         NaN            NaN   \n9               NaN               NaN          NaN         1.0            NaN   \n\n  Index first cluster  \n0                 NaN  \n1                 NaN  \n2                 NaN  \n3                 NaN  \n4                 NaN  \n5                 5.0  \n6                 NaN  \n7                 NaN  \n8                 NaN  \n9                 NaN  \n\n[10 rows x 34 columns]",
      "text/html": "<div>\n<style scoped>\n    .dataframe tbody tr th:only-of-type {\n        vertical-align: middle;\n    }\n\n    .dataframe tbody tr th {\n        vertical-align: top;\n    }\n\n    .dataframe thead th {\n        text-align: right;\n    }\n</style>\n<table border=\"1\" class=\"dataframe\">\n  <thead>\n    <tr style=\"text-align: right;\">\n      <th></th>\n      <th>ID</th>\n      <th>Sequence number</th>\n      <th>FILE/BAAD</th>\n      <th>LSN</th>\n      <th>Hard link count</th>\n      <th>Allocation flag</th>\n      <th>Allocation flag (verbose)</th>\n      <th>Entry number</th>\n      <th>Base record reference</th>\n      <th>Base record entry number</th>\n      <th>...</th>\n      <th>Filename2</th>\n      <th>Run list</th>\n      <th>First cluster</th>\n      <th>Resident</th>\n      <th>ADS Run list</th>\n      <th>ADS first cluster</th>\n      <th>ADS resident</th>\n      <th>Index flag</th>\n      <th>Index Run list</th>\n      <th>Index first cluster</th>\n    </tr>\n  </thead>\n  <tbody>\n    <tr>\n      <th>0</th>\n      <td>0</td>\n      <td>1</td>\n      <td>FILE</td>\n      <td>403619793</td>\n      <td>1</td>\n      <td>1</td>\n      <td>01 (Visible file)</td>\n      <td>0</td>\n      <td>0</td>\n      <td>0</td>\n      <td>...</td>\n      <td>NaN</td>\n      <td>[(786432, 26048), (3226912, 3714), (2034988, 6...</td>\n      <td>786432.0</td>\n      <td>1.0</td>\n      <td>NaN</td>\n      <td>NaN</td>\n      <td>NaN</td>\n      <td>NaN</td>\n      <td>NaN</td>\n      <td>NaN</td>\n    </tr>\n    <tr>\n      <th>1</th>\n      <td>1</td>\n      <td>1</td>\n      <td>FILE</td>\n      <td>33560283</td>\n      <td>1</td>\n      <td>1</td>\n      <td>01 (Visible file)</td>\n      <td>1</td>\n      <td>0</td>\n      <td>0</td>\n      <td>...</td>\n      <td>NaN</td>\n      <td>[(2, 1)]</td>\n      <td>2.0</td>\n      <td>1.0</td>\n      <td>NaN</td>\n      <td>NaN</td>\n      <td>NaN</td>\n      <td>NaN</td>\n      <td>NaN</td>\n      <td>NaN</td>\n    </tr>\n    <tr>\n      <th>2</th>\n      <td>2</td>\n      <td>2</td>\n      <td>FILE</td>\n      <td>33560353</td>\n      <td>1</td>\n      <td>1</td>\n      <td>01 (Visible file)</td>\n      <td>2</td>\n      <td>0</td>\n      <td>0</td>\n      <td>...</td>\n      <td>NaN</td>\n      <td>[(766321, 16384)]</td>\n      <td>766321.0</td>\n      <td>1.0</td>\n      <td>NaN</td>\n      <td>NaN</td>\n      <td>NaN</td>\n      <td>NaN</td>\n      <td>NaN</td>\n      <td>NaN</td>\n    </tr>\n    <tr>\n      <th>3</th>\n      <td>3</td>\n      <td>3</td>\n      <td>FILE</td>\n      <td>218769397</td>\n      <td>1</td>\n      <td>1</td>\n      <td>01 (Visible file)</td>\n      <td>3</td>\n      <td>0</td>\n      <td>0</td>\n      <td>...</td>\n      <td>NaN</td>\n      <td>NaN</td>\n      <td>NaN</td>\n      <td>0.0</td>\n      <td>NaN</td>\n      <td>NaN</td>\n      <td>NaN</td>\n      <td>NaN</td>\n      <td>NaN</td>\n      <td>NaN</td>\n    </tr>\n    <tr>\n      <th>4</th>\n      <td>4</td>\n      <td>4</td>\n      <td>FILE</td>\n      <td>474188404</td>\n      <td>1</td>\n      <td>1</td>\n      <td>01 (Visible file)</td>\n      <td>4</td>\n      <td>0</td>\n      <td>0</td>\n      <td>...</td>\n      <td>NaN</td>\n      <td>[(867413, 1)]</td>\n      <td>867413.0</td>\n      <td>1.0</td>\n      <td>NaN</td>\n      <td>NaN</td>\n      <td>NaN</td>\n      <td>NaN</td>\n      <td>NaN</td>\n      <td>NaN</td>\n    </tr>\n    <tr>\n      <th>5</th>\n      <td>5</td>\n      <td>5</td>\n      <td>FILE</td>\n      <td>492368653</td>\n      <td>1</td>\n      <td>3</td>\n      <td>03 (Visible directory)</td>\n      <td>5</td>\n      <td>0</td>\n      <td>0</td>\n      <td>...</td>\n      <td>NaN</td>\n      <td>NaN</td>\n      <td>NaN</td>\n      <td>NaN</td>\n      <td>NaN</td>\n      <td>NaN</td>\n      <td>NaN</td>\n      <td>1.0</td>\n      <td>[(5, 2)]</td>\n      <td>5.0</td>\n    </tr>\n    <tr>\n      <th>6</th>\n      <td>6</td>\n      <td>6</td>\n      <td>FILE</td>\n      <td>492359579</td>\n      <td>1</td>\n      <td>1</td>\n      <td>01 (Visible file)</td>\n      <td>6</td>\n      <td>0</td>\n      <td>0</td>\n      <td>...</td>\n      <td>NaN</td>\n      <td>[(782705, 3722)]</td>\n      <td>782705.0</td>\n      <td>1.0</td>\n      <td>NaN</td>\n      <td>NaN</td>\n      <td>NaN</td>\n      <td>NaN</td>\n      <td>NaN</td>\n      <td>NaN</td>\n    </tr>\n    <tr>\n      <th>7</th>\n      <td>7</td>\n      <td>7</td>\n      <td>FILE</td>\n      <td>0</td>\n      <td>1</td>\n      <td>1</td>\n      <td>01 (Visible file)</td>\n      <td>7</td>\n      <td>0</td>\n      <td>0</td>\n      <td>...</td>\n      <td>NaN</td>\n      <td>[(0, 2)]</td>\n      <td>0.0</td>\n      <td>1.0</td>\n      <td>NaN</td>\n      <td>NaN</td>\n      <td>NaN</td>\n      <td>NaN</td>\n      <td>NaN</td>\n      <td>NaN</td>\n    </tr>\n    <tr>\n      <th>8</th>\n      <td>8</td>\n      <td>8</td>\n      <td>FILE</td>\n      <td>236350224</td>\n      <td>1</td>\n      <td>1</td>\n      <td>01 (Visible file)</td>\n      <td>8</td>\n      <td>0</td>\n      <td>0</td>\n      <td>...</td>\n      <td>NaN</td>\n      <td>NaN</td>\n      <td>NaN</td>\n      <td>0.0</td>\n      <td>[(0, 121932652)]</td>\n      <td>0.0</td>\n      <td>1.0</td>\n      <td>NaN</td>\n      <td>NaN</td>\n      <td>NaN</td>\n    </tr>\n    <tr>\n      <th>9</th>\n      <td>9</td>\n      <td>9</td>\n      <td>FILE</td>\n      <td>220061830</td>\n      <td>1</td>\n      <td>9</td>\n      <td>Unknown allocation flag</td>\n      <td>9</td>\n      <td>0</td>\n      <td>0</td>\n      <td>...</td>\n      <td>NaN</td>\n      <td>NaN</td>\n      <td>NaN</td>\n      <td>NaN</td>\n      <td>NaN</td>\n      <td>NaN</td>\n      <td>NaN</td>\n      <td>1.0</td>\n      <td>NaN</td>\n      <td>NaN</td>\n    </tr>\n  </tbody>\n</table>\n<p>10 rows × 34 columns</p>\n</div>"
     },
     "execution_count": 59,
     "metadata": {},
     "output_type": "execute_result"
    }
   ],
   "source": [
    "df.head(10)"
   ],
   "metadata": {
    "collapsed": false,
    "pycharm": {
     "name": "#%%\n"
    }
   }
  },
  {
   "cell_type": "code",
   "execution_count": 60,
   "outputs": [
    {
     "name": "stdout",
     "output_type": "stream",
     "text": [
      "There are 119624 entries in the MFT\n"
     ]
    }
   ],
   "source": [
    "print(f'There are {len(df)} entries in the MFT')"
   ],
   "metadata": {
    "collapsed": false,
    "pycharm": {
     "name": "#%%\n"
    }
   }
  },
  {
   "cell_type": "code",
   "execution_count": 61,
   "outputs": [
    {
     "data": {
      "text/plain": "Index(['ID', 'Sequence number', 'FILE/BAAD', 'LSN', 'Hard link count',\n       'Allocation flag', 'Allocation flag (verbose)', 'Entry number',\n       'Base record reference', 'Base record entry number',\n       'Base record sequence number', 'Path', 'SI creation time',\n       'SI modification time', 'SI entry modification time',\n       'SI last accessed time', 'File type', 'USN', 'FN creation time',\n       'FN modification time', 'FN entry modification time',\n       'FN last accessed time', 'Parent entry number', 'Filename', 'Filename2',\n       'Run list', 'First cluster', 'Resident', 'ADS Run list',\n       'ADS first cluster', 'ADS resident', 'Index flag', 'Index Run list',\n       'Index first cluster'],\n      dtype='object')"
     },
     "execution_count": 61,
     "metadata": {},
     "output_type": "execute_result"
    }
   ],
   "source": [
    "df.columns"
   ],
   "metadata": {
    "collapsed": false,
    "pycharm": {
     "name": "#%%\n"
    }
   }
  },
  {
   "cell_type": "code",
   "execution_count": 62,
   "outputs": [],
   "source": [
    "df = df.set_index('ID')"
   ],
   "metadata": {
    "collapsed": false,
    "pycharm": {
     "name": "#%%\n"
    }
   }
  },
  {
   "cell_type": "code",
   "execution_count": 63,
   "outputs": [
    {
     "data": {
      "text/plain": "Sequence number                  int64\nFILE/BAAD                       object\nLSN                              int64\nHard link count                  int64\nAllocation flag                  int64\nAllocation flag (verbose)       object\nEntry number                     int64\nBase record reference            int64\nBase record entry number         int64\nBase record sequence number      int64\nPath                            object\nSI creation time                object\nSI modification time            object\nSI entry modification time      object\nSI last accessed time           object\nFile type                       object\nUSN                            float64\nFN creation time                object\nFN modification time            object\nFN entry modification time      object\nFN last accessed time           object\nParent entry number            float64\nFilename                        object\nFilename2                       object\nRun list                        object\nFirst cluster                  float64\nResident                       float64\nADS Run list                    object\nADS first cluster              float64\nADS resident                   float64\nIndex flag                     float64\nIndex Run list                  object\nIndex first cluster            float64\ndtype: object"
     },
     "execution_count": 63,
     "metadata": {},
     "output_type": "execute_result"
    }
   ],
   "source": [
    "df.dtypes"
   ],
   "metadata": {
    "collapsed": false,
    "pycharm": {
     "name": "#%%\n"
    }
   }
  },
  {
   "cell_type": "code",
   "execution_count": 64,
   "outputs": [
    {
     "data": {
      "text/plain": "    Sequence number FILE/BAAD        LSN  Hard link count  Allocation flag  \\\nID                                                                           \n0                 1      FILE  403619793                1                1   \n1                 1      FILE   33560283                1                1   \n2                 2      FILE   33560353                1                1   \n3                 3      FILE  218769397                1                1   \n4                 4      FILE  474188404                1                1   \n5                 5      FILE  492368653                1                3   \n6                 6      FILE  492359579                1                1   \n7                 7      FILE          0                1                1   \n8                 8      FILE  236350224                1                1   \n9                 9      FILE  220061830                1                9   \n\n   Allocation flag (verbose)  Entry number  Base record reference  \\\nID                                                                  \n0          01 (Visible file)             0                      0   \n1          01 (Visible file)             1                      0   \n2          01 (Visible file)             2                      0   \n3          01 (Visible file)             3                      0   \n4          01 (Visible file)             4                      0   \n5     03 (Visible directory)             5                      0   \n6          01 (Visible file)             6                      0   \n7          01 (Visible file)             7                      0   \n8          01 (Visible file)             8                      0   \n9    Unknown allocation flag             9                      0   \n\n    Base record entry number  Base record sequence number  ... Filename2  \\\nID                                                         ...             \n0                          0                            0  ...       NaN   \n1                          0                            0  ...       NaN   \n2                          0                            0  ...       NaN   \n3                          0                            0  ...       NaN   \n4                          0                            0  ...       NaN   \n5                          0                            0  ...       NaN   \n6                          0                            0  ...       NaN   \n7                          0                            0  ...       NaN   \n8                          0                            0  ...       NaN   \n9                          0                            0  ...       NaN   \n\n                                             Run list First cluster Resident  \\\nID                                                                             \n0   [(786432, 26048), (3226912, 3714), (2034988, 6...      786432.0      1.0   \n1                                            [(2, 1)]           2.0      1.0   \n2                                   [(766321, 16384)]      766321.0      1.0   \n3                                                 NaN           NaN      0.0   \n4                                       [(867413, 1)]      867413.0      1.0   \n5                                                 NaN           NaN      NaN   \n6                                    [(782705, 3722)]      782705.0      1.0   \n7                                            [(0, 2)]           0.0      1.0   \n8                                                 NaN           NaN      0.0   \n9                                                 NaN           NaN      NaN   \n\n        ADS Run list ADS first cluster  ADS resident Index flag  \\\nID                                                                \n0                NaN               NaN           NaN        NaN   \n1                NaN               NaN           NaN        NaN   \n2                NaN               NaN           NaN        NaN   \n3                NaN               NaN           NaN        NaN   \n4                NaN               NaN           NaN        NaN   \n5                NaN               NaN           NaN        1.0   \n6                NaN               NaN           NaN        NaN   \n7                NaN               NaN           NaN        NaN   \n8   [(0, 121932652)]               0.0           1.0        NaN   \n9                NaN               NaN           NaN        1.0   \n\n   Index Run list Index first cluster  \nID                                     \n0             NaN                 NaN  \n1             NaN                 NaN  \n2             NaN                 NaN  \n3             NaN                 NaN  \n4             NaN                 NaN  \n5        [(5, 2)]                 5.0  \n6             NaN                 NaN  \n7             NaN                 NaN  \n8             NaN                 NaN  \n9             NaN                 NaN  \n\n[10 rows x 33 columns]",
      "text/html": "<div>\n<style scoped>\n    .dataframe tbody tr th:only-of-type {\n        vertical-align: middle;\n    }\n\n    .dataframe tbody tr th {\n        vertical-align: top;\n    }\n\n    .dataframe thead th {\n        text-align: right;\n    }\n</style>\n<table border=\"1\" class=\"dataframe\">\n  <thead>\n    <tr style=\"text-align: right;\">\n      <th></th>\n      <th>Sequence number</th>\n      <th>FILE/BAAD</th>\n      <th>LSN</th>\n      <th>Hard link count</th>\n      <th>Allocation flag</th>\n      <th>Allocation flag (verbose)</th>\n      <th>Entry number</th>\n      <th>Base record reference</th>\n      <th>Base record entry number</th>\n      <th>Base record sequence number</th>\n      <th>...</th>\n      <th>Filename2</th>\n      <th>Run list</th>\n      <th>First cluster</th>\n      <th>Resident</th>\n      <th>ADS Run list</th>\n      <th>ADS first cluster</th>\n      <th>ADS resident</th>\n      <th>Index flag</th>\n      <th>Index Run list</th>\n      <th>Index first cluster</th>\n    </tr>\n    <tr>\n      <th>ID</th>\n      <th></th>\n      <th></th>\n      <th></th>\n      <th></th>\n      <th></th>\n      <th></th>\n      <th></th>\n      <th></th>\n      <th></th>\n      <th></th>\n      <th></th>\n      <th></th>\n      <th></th>\n      <th></th>\n      <th></th>\n      <th></th>\n      <th></th>\n      <th></th>\n      <th></th>\n      <th></th>\n      <th></th>\n    </tr>\n  </thead>\n  <tbody>\n    <tr>\n      <th>0</th>\n      <td>1</td>\n      <td>FILE</td>\n      <td>403619793</td>\n      <td>1</td>\n      <td>1</td>\n      <td>01 (Visible file)</td>\n      <td>0</td>\n      <td>0</td>\n      <td>0</td>\n      <td>0</td>\n      <td>...</td>\n      <td>NaN</td>\n      <td>[(786432, 26048), (3226912, 3714), (2034988, 6...</td>\n      <td>786432.0</td>\n      <td>1.0</td>\n      <td>NaN</td>\n      <td>NaN</td>\n      <td>NaN</td>\n      <td>NaN</td>\n      <td>NaN</td>\n      <td>NaN</td>\n    </tr>\n    <tr>\n      <th>1</th>\n      <td>1</td>\n      <td>FILE</td>\n      <td>33560283</td>\n      <td>1</td>\n      <td>1</td>\n      <td>01 (Visible file)</td>\n      <td>1</td>\n      <td>0</td>\n      <td>0</td>\n      <td>0</td>\n      <td>...</td>\n      <td>NaN</td>\n      <td>[(2, 1)]</td>\n      <td>2.0</td>\n      <td>1.0</td>\n      <td>NaN</td>\n      <td>NaN</td>\n      <td>NaN</td>\n      <td>NaN</td>\n      <td>NaN</td>\n      <td>NaN</td>\n    </tr>\n    <tr>\n      <th>2</th>\n      <td>2</td>\n      <td>FILE</td>\n      <td>33560353</td>\n      <td>1</td>\n      <td>1</td>\n      <td>01 (Visible file)</td>\n      <td>2</td>\n      <td>0</td>\n      <td>0</td>\n      <td>0</td>\n      <td>...</td>\n      <td>NaN</td>\n      <td>[(766321, 16384)]</td>\n      <td>766321.0</td>\n      <td>1.0</td>\n      <td>NaN</td>\n      <td>NaN</td>\n      <td>NaN</td>\n      <td>NaN</td>\n      <td>NaN</td>\n      <td>NaN</td>\n    </tr>\n    <tr>\n      <th>3</th>\n      <td>3</td>\n      <td>FILE</td>\n      <td>218769397</td>\n      <td>1</td>\n      <td>1</td>\n      <td>01 (Visible file)</td>\n      <td>3</td>\n      <td>0</td>\n      <td>0</td>\n      <td>0</td>\n      <td>...</td>\n      <td>NaN</td>\n      <td>NaN</td>\n      <td>NaN</td>\n      <td>0.0</td>\n      <td>NaN</td>\n      <td>NaN</td>\n      <td>NaN</td>\n      <td>NaN</td>\n      <td>NaN</td>\n      <td>NaN</td>\n    </tr>\n    <tr>\n      <th>4</th>\n      <td>4</td>\n      <td>FILE</td>\n      <td>474188404</td>\n      <td>1</td>\n      <td>1</td>\n      <td>01 (Visible file)</td>\n      <td>4</td>\n      <td>0</td>\n      <td>0</td>\n      <td>0</td>\n      <td>...</td>\n      <td>NaN</td>\n      <td>[(867413, 1)]</td>\n      <td>867413.0</td>\n      <td>1.0</td>\n      <td>NaN</td>\n      <td>NaN</td>\n      <td>NaN</td>\n      <td>NaN</td>\n      <td>NaN</td>\n      <td>NaN</td>\n    </tr>\n    <tr>\n      <th>5</th>\n      <td>5</td>\n      <td>FILE</td>\n      <td>492368653</td>\n      <td>1</td>\n      <td>3</td>\n      <td>03 (Visible directory)</td>\n      <td>5</td>\n      <td>0</td>\n      <td>0</td>\n      <td>0</td>\n      <td>...</td>\n      <td>NaN</td>\n      <td>NaN</td>\n      <td>NaN</td>\n      <td>NaN</td>\n      <td>NaN</td>\n      <td>NaN</td>\n      <td>NaN</td>\n      <td>1.0</td>\n      <td>[(5, 2)]</td>\n      <td>5.0</td>\n    </tr>\n    <tr>\n      <th>6</th>\n      <td>6</td>\n      <td>FILE</td>\n      <td>492359579</td>\n      <td>1</td>\n      <td>1</td>\n      <td>01 (Visible file)</td>\n      <td>6</td>\n      <td>0</td>\n      <td>0</td>\n      <td>0</td>\n      <td>...</td>\n      <td>NaN</td>\n      <td>[(782705, 3722)]</td>\n      <td>782705.0</td>\n      <td>1.0</td>\n      <td>NaN</td>\n      <td>NaN</td>\n      <td>NaN</td>\n      <td>NaN</td>\n      <td>NaN</td>\n      <td>NaN</td>\n    </tr>\n    <tr>\n      <th>7</th>\n      <td>7</td>\n      <td>FILE</td>\n      <td>0</td>\n      <td>1</td>\n      <td>1</td>\n      <td>01 (Visible file)</td>\n      <td>7</td>\n      <td>0</td>\n      <td>0</td>\n      <td>0</td>\n      <td>...</td>\n      <td>NaN</td>\n      <td>[(0, 2)]</td>\n      <td>0.0</td>\n      <td>1.0</td>\n      <td>NaN</td>\n      <td>NaN</td>\n      <td>NaN</td>\n      <td>NaN</td>\n      <td>NaN</td>\n      <td>NaN</td>\n    </tr>\n    <tr>\n      <th>8</th>\n      <td>8</td>\n      <td>FILE</td>\n      <td>236350224</td>\n      <td>1</td>\n      <td>1</td>\n      <td>01 (Visible file)</td>\n      <td>8</td>\n      <td>0</td>\n      <td>0</td>\n      <td>0</td>\n      <td>...</td>\n      <td>NaN</td>\n      <td>NaN</td>\n      <td>NaN</td>\n      <td>0.0</td>\n      <td>[(0, 121932652)]</td>\n      <td>0.0</td>\n      <td>1.0</td>\n      <td>NaN</td>\n      <td>NaN</td>\n      <td>NaN</td>\n    </tr>\n    <tr>\n      <th>9</th>\n      <td>9</td>\n      <td>FILE</td>\n      <td>220061830</td>\n      <td>1</td>\n      <td>9</td>\n      <td>Unknown allocation flag</td>\n      <td>9</td>\n      <td>0</td>\n      <td>0</td>\n      <td>0</td>\n      <td>...</td>\n      <td>NaN</td>\n      <td>NaN</td>\n      <td>NaN</td>\n      <td>NaN</td>\n      <td>NaN</td>\n      <td>NaN</td>\n      <td>NaN</td>\n      <td>1.0</td>\n      <td>NaN</td>\n      <td>NaN</td>\n    </tr>\n  </tbody>\n</table>\n<p>10 rows × 33 columns</p>\n</div>"
     },
     "execution_count": 64,
     "metadata": {},
     "output_type": "execute_result"
    }
   ],
   "source": [
    "df.head(10)"
   ],
   "metadata": {
    "collapsed": false,
    "pycharm": {
     "name": "#%%\n"
    }
   }
  },
  {
   "cell_type": "code",
   "execution_count": 65,
   "outputs": [
    {
     "data": {
      "text/plain": "        Sequence number FILE/BAAD        LSN  Hard link count  \\\nID                                                              \n0                     1      FILE  403619793                1   \n1                     1      FILE   33560283                1   \n2                     2      FILE   33560353                1   \n3                     3      FILE  218769397                1   \n4                     4      FILE  474188404                1   \n...                 ...       ...        ...              ...   \n119627                1      FILE  406737879                2   \n119628                1      FILE  406741555                2   \n119629                1      FILE  406743074                2   \n119630                1      FILE  406747017                2   \n119631                1      FILE  406756082                2   \n\n        Allocation flag Allocation flag (verbose)  Entry number  \\\nID                                                                \n0                     1         01 (Visible file)             0   \n1                     1         01 (Visible file)             1   \n2                     1         01 (Visible file)             2   \n3                     1         01 (Visible file)             3   \n4                     1         01 (Visible file)             4   \n...                 ...                       ...           ...   \n119627                3    03 (Visible directory)        119627   \n119628                3    03 (Visible directory)        119628   \n119629                3    03 (Visible directory)        119629   \n119630                3    03 (Visible directory)        119630   \n119631                3    03 (Visible directory)        119631   \n\n        Base record reference  Base record entry number  \\\nID                                                        \n0                           0                         0   \n1                           0                         0   \n2                           0                         0   \n3                           0                         0   \n4                           0                         0   \n...                       ...                       ...   \n119627                      0                         0   \n119628                      0                         0   \n119629                      0                         0   \n119630                      0                         0   \n119631                      0                         0   \n\n        Base record sequence number  ...     Filename2  \\\nID                                   ...                 \n0                                 0  ...                 \n1                                 0  ...                 \n2                                 0  ...                 \n3                                 0  ...                 \n4                                 0  ...                 \n...                             ...  ...           ...   \n119627                            0  ...  X8D5D4~1.122   \n119628                            0  ...  X8E136~1.122   \n119629                            0  ...  AM6F4B~1.122   \n119630                            0  ...  X83383~1.122   \n119631                            0  ...  AMC918~1.122   \n\n                                                 Run list First cluster  \\\nID                                                                        \n0       [(786432, 26048), (3226912, 3714), (2034988, 6...      786432.0   \n1                                                [(2, 1)]           2.0   \n2                                       [(766321, 16384)]      766321.0   \n3                                                                         \n4                                           [(867413, 1)]      867413.0   \n...                                                   ...           ...   \n119627                                                                    \n119628                                                                    \n119629                                                                    \n119630                                                                    \n119631                                                                    \n\n       Resident ADS Run list ADS first cluster ADS resident Index flag  \\\nID                                                                       \n0           1.0                                                          \n1           1.0                                                          \n2           1.0                                                          \n3           0.0                                                          \n4           1.0                                                          \n...         ...          ...               ...          ...        ...   \n119627                                                             1.0   \n119628                                                             1.0   \n119629                                                             0.0   \n119630                                                             1.0   \n119631                                                             1.0   \n\n        Index Run list Index first cluster  \nID                                          \n0                                           \n1                                           \n2                                           \n3                                           \n4                                           \n...                ...                 ...  \n119627  [(4621713, 1)]           4621713.0  \n119628  [(4621714, 1)]           4621714.0  \n119629                                      \n119630  [(4621715, 1)]           4621715.0  \n119631  [(4621716, 1)]           4621716.0  \n\n[119624 rows x 33 columns]",
      "text/html": "<div>\n<style scoped>\n    .dataframe tbody tr th:only-of-type {\n        vertical-align: middle;\n    }\n\n    .dataframe tbody tr th {\n        vertical-align: top;\n    }\n\n    .dataframe thead th {\n        text-align: right;\n    }\n</style>\n<table border=\"1\" class=\"dataframe\">\n  <thead>\n    <tr style=\"text-align: right;\">\n      <th></th>\n      <th>Sequence number</th>\n      <th>FILE/BAAD</th>\n      <th>LSN</th>\n      <th>Hard link count</th>\n      <th>Allocation flag</th>\n      <th>Allocation flag (verbose)</th>\n      <th>Entry number</th>\n      <th>Base record reference</th>\n      <th>Base record entry number</th>\n      <th>Base record sequence number</th>\n      <th>...</th>\n      <th>Filename2</th>\n      <th>Run list</th>\n      <th>First cluster</th>\n      <th>Resident</th>\n      <th>ADS Run list</th>\n      <th>ADS first cluster</th>\n      <th>ADS resident</th>\n      <th>Index flag</th>\n      <th>Index Run list</th>\n      <th>Index first cluster</th>\n    </tr>\n    <tr>\n      <th>ID</th>\n      <th></th>\n      <th></th>\n      <th></th>\n      <th></th>\n      <th></th>\n      <th></th>\n      <th></th>\n      <th></th>\n      <th></th>\n      <th></th>\n      <th></th>\n      <th></th>\n      <th></th>\n      <th></th>\n      <th></th>\n      <th></th>\n      <th></th>\n      <th></th>\n      <th></th>\n      <th></th>\n      <th></th>\n    </tr>\n  </thead>\n  <tbody>\n    <tr>\n      <th>0</th>\n      <td>1</td>\n      <td>FILE</td>\n      <td>403619793</td>\n      <td>1</td>\n      <td>1</td>\n      <td>01 (Visible file)</td>\n      <td>0</td>\n      <td>0</td>\n      <td>0</td>\n      <td>0</td>\n      <td>...</td>\n      <td></td>\n      <td>[(786432, 26048), (3226912, 3714), (2034988, 6...</td>\n      <td>786432.0</td>\n      <td>1.0</td>\n      <td></td>\n      <td></td>\n      <td></td>\n      <td></td>\n      <td></td>\n      <td></td>\n    </tr>\n    <tr>\n      <th>1</th>\n      <td>1</td>\n      <td>FILE</td>\n      <td>33560283</td>\n      <td>1</td>\n      <td>1</td>\n      <td>01 (Visible file)</td>\n      <td>1</td>\n      <td>0</td>\n      <td>0</td>\n      <td>0</td>\n      <td>...</td>\n      <td></td>\n      <td>[(2, 1)]</td>\n      <td>2.0</td>\n      <td>1.0</td>\n      <td></td>\n      <td></td>\n      <td></td>\n      <td></td>\n      <td></td>\n      <td></td>\n    </tr>\n    <tr>\n      <th>2</th>\n      <td>2</td>\n      <td>FILE</td>\n      <td>33560353</td>\n      <td>1</td>\n      <td>1</td>\n      <td>01 (Visible file)</td>\n      <td>2</td>\n      <td>0</td>\n      <td>0</td>\n      <td>0</td>\n      <td>...</td>\n      <td></td>\n      <td>[(766321, 16384)]</td>\n      <td>766321.0</td>\n      <td>1.0</td>\n      <td></td>\n      <td></td>\n      <td></td>\n      <td></td>\n      <td></td>\n      <td></td>\n    </tr>\n    <tr>\n      <th>3</th>\n      <td>3</td>\n      <td>FILE</td>\n      <td>218769397</td>\n      <td>1</td>\n      <td>1</td>\n      <td>01 (Visible file)</td>\n      <td>3</td>\n      <td>0</td>\n      <td>0</td>\n      <td>0</td>\n      <td>...</td>\n      <td></td>\n      <td></td>\n      <td></td>\n      <td>0.0</td>\n      <td></td>\n      <td></td>\n      <td></td>\n      <td></td>\n      <td></td>\n      <td></td>\n    </tr>\n    <tr>\n      <th>4</th>\n      <td>4</td>\n      <td>FILE</td>\n      <td>474188404</td>\n      <td>1</td>\n      <td>1</td>\n      <td>01 (Visible file)</td>\n      <td>4</td>\n      <td>0</td>\n      <td>0</td>\n      <td>0</td>\n      <td>...</td>\n      <td></td>\n      <td>[(867413, 1)]</td>\n      <td>867413.0</td>\n      <td>1.0</td>\n      <td></td>\n      <td></td>\n      <td></td>\n      <td></td>\n      <td></td>\n      <td></td>\n    </tr>\n    <tr>\n      <th>...</th>\n      <td>...</td>\n      <td>...</td>\n      <td>...</td>\n      <td>...</td>\n      <td>...</td>\n      <td>...</td>\n      <td>...</td>\n      <td>...</td>\n      <td>...</td>\n      <td>...</td>\n      <td>...</td>\n      <td>...</td>\n      <td>...</td>\n      <td>...</td>\n      <td>...</td>\n      <td>...</td>\n      <td>...</td>\n      <td>...</td>\n      <td>...</td>\n      <td>...</td>\n      <td>...</td>\n    </tr>\n    <tr>\n      <th>119627</th>\n      <td>1</td>\n      <td>FILE</td>\n      <td>406737879</td>\n      <td>2</td>\n      <td>3</td>\n      <td>03 (Visible directory)</td>\n      <td>119627</td>\n      <td>0</td>\n      <td>0</td>\n      <td>0</td>\n      <td>...</td>\n      <td>X8D5D4~1.122</td>\n      <td></td>\n      <td></td>\n      <td></td>\n      <td></td>\n      <td></td>\n      <td></td>\n      <td>1.0</td>\n      <td>[(4621713, 1)]</td>\n      <td>4621713.0</td>\n    </tr>\n    <tr>\n      <th>119628</th>\n      <td>1</td>\n      <td>FILE</td>\n      <td>406741555</td>\n      <td>2</td>\n      <td>3</td>\n      <td>03 (Visible directory)</td>\n      <td>119628</td>\n      <td>0</td>\n      <td>0</td>\n      <td>0</td>\n      <td>...</td>\n      <td>X8E136~1.122</td>\n      <td></td>\n      <td></td>\n      <td></td>\n      <td></td>\n      <td></td>\n      <td></td>\n      <td>1.0</td>\n      <td>[(4621714, 1)]</td>\n      <td>4621714.0</td>\n    </tr>\n    <tr>\n      <th>119629</th>\n      <td>1</td>\n      <td>FILE</td>\n      <td>406743074</td>\n      <td>2</td>\n      <td>3</td>\n      <td>03 (Visible directory)</td>\n      <td>119629</td>\n      <td>0</td>\n      <td>0</td>\n      <td>0</td>\n      <td>...</td>\n      <td>AM6F4B~1.122</td>\n      <td></td>\n      <td></td>\n      <td></td>\n      <td></td>\n      <td></td>\n      <td></td>\n      <td>0.0</td>\n      <td></td>\n      <td></td>\n    </tr>\n    <tr>\n      <th>119630</th>\n      <td>1</td>\n      <td>FILE</td>\n      <td>406747017</td>\n      <td>2</td>\n      <td>3</td>\n      <td>03 (Visible directory)</td>\n      <td>119630</td>\n      <td>0</td>\n      <td>0</td>\n      <td>0</td>\n      <td>...</td>\n      <td>X83383~1.122</td>\n      <td></td>\n      <td></td>\n      <td></td>\n      <td></td>\n      <td></td>\n      <td></td>\n      <td>1.0</td>\n      <td>[(4621715, 1)]</td>\n      <td>4621715.0</td>\n    </tr>\n    <tr>\n      <th>119631</th>\n      <td>1</td>\n      <td>FILE</td>\n      <td>406756082</td>\n      <td>2</td>\n      <td>3</td>\n      <td>03 (Visible directory)</td>\n      <td>119631</td>\n      <td>0</td>\n      <td>0</td>\n      <td>0</td>\n      <td>...</td>\n      <td>AMC918~1.122</td>\n      <td></td>\n      <td></td>\n      <td></td>\n      <td></td>\n      <td></td>\n      <td></td>\n      <td>1.0</td>\n      <td>[(4621716, 1)]</td>\n      <td>4621716.0</td>\n    </tr>\n  </tbody>\n</table>\n<p>119624 rows × 33 columns</p>\n</div>"
     },
     "execution_count": 65,
     "metadata": {},
     "output_type": "execute_result"
    }
   ],
   "source": [
    "df.fillna('', inplace=True)\n",
    "df"
   ],
   "metadata": {
    "collapsed": false,
    "pycharm": {
     "name": "#%%\n"
    }
   }
  },
  {
   "cell_type": "code",
   "execution_count": null,
   "outputs": [],
   "source": [
    "if df['Run list'] != '':\n",
    "    df['']"
   ],
   "metadata": {
    "collapsed": false,
    "pycharm": {
     "name": "#%%\n"
    }
   }
  },
  {
   "cell_type": "code",
   "execution_count": 31,
   "outputs": [
    {
     "data": {
      "text/plain": "        Sequence number FILE/BAAD        LSN  Hard link count  \\\nID                                                              \n3                     3      FILE  218769397                1   \n8                     8      FILE  236350224                1   \n9                     9      FILE  220061830                1   \n11                   11      FILE  218128261                1   \n12                   12      FILE          0                0   \n...                 ...       ...        ...              ...   \n119620                1      FILE  406707351                2   \n119621                1      FILE  406708775                2   \n119625                1      FILE  406719594                2   \n119626                1      FILE  406721111                2   \n119629                1      FILE  406743074                2   \n\n        Allocation flag Allocation flag (verbose)  Entry number  \\\nID                                                                \n3                     1         01 (Visible file)             3   \n8                     1         01 (Visible file)             8   \n9                     9   Unknown allocation flag             9   \n11                    3    03 (Visible directory)            11   \n12                    1         01 (Visible file)            12   \n...                 ...                       ...           ...   \n119620                3    03 (Visible directory)        119620   \n119621                3    03 (Visible directory)        119621   \n119625                3    03 (Visible directory)        119625   \n119626                3    03 (Visible directory)        119626   \n119629                3    03 (Visible directory)        119629   \n\n        Base record reference  Base record entry number  \\\nID                                                        \n3                           0                         0   \n8                           0                         0   \n9                           0                         0   \n11                          0                         0   \n12                          0                         0   \n...                       ...                       ...   \n119620                      0                         0   \n119621                      0                         0   \n119625                      0                         0   \n119626                      0                         0   \n119629                      0                         0   \n\n        Base record sequence number  ...     Filename2 Run list First cluster  \\\nID                                   ...                                        \n3                                 0  ...                                        \n8                                 0  ...                                        \n9                                 0  ...                                        \n11                                0  ...                                        \n12                                0  ...                                        \n...                             ...  ...           ...      ...           ...   \n119620                            0  ...  X82C9C~1.122                          \n119621                            0  ...  AM61C2~1.122                          \n119625                            0  ...  X8AA62~1.122                          \n119626                            0  ...  X8F003~1.122                          \n119629                            0  ...  AM6F4B~1.122                          \n\n       Resident      ADS Run list ADS first cluster ADS resident Index flag  \\\nID                                                                            \n3           0.0                                                               \n8           0.0  [(0, 121932652)]               0.0          1.0              \n9                                                                       1.0   \n11                                                                      0.0   \n12          0.0                                                               \n...         ...               ...               ...          ...        ...   \n119620                                                                  0.0   \n119621                                                                  0.0   \n119625                                                                  0.0   \n119626                                                                  0.0   \n119629                                                                  0.0   \n\n       Index Run list Index first cluster  \nID                                         \n3                                          \n8                                          \n9                                          \n11                                         \n12                                         \n...               ...                 ...  \n119620                                     \n119621                                     \n119625                                     \n119626                                     \n119629                                     \n\n[42030 rows x 33 columns]",
      "text/html": "<div>\n<style scoped>\n    .dataframe tbody tr th:only-of-type {\n        vertical-align: middle;\n    }\n\n    .dataframe tbody tr th {\n        vertical-align: top;\n    }\n\n    .dataframe thead th {\n        text-align: right;\n    }\n</style>\n<table border=\"1\" class=\"dataframe\">\n  <thead>\n    <tr style=\"text-align: right;\">\n      <th></th>\n      <th>Sequence number</th>\n      <th>FILE/BAAD</th>\n      <th>LSN</th>\n      <th>Hard link count</th>\n      <th>Allocation flag</th>\n      <th>Allocation flag (verbose)</th>\n      <th>Entry number</th>\n      <th>Base record reference</th>\n      <th>Base record entry number</th>\n      <th>Base record sequence number</th>\n      <th>...</th>\n      <th>Filename2</th>\n      <th>Run list</th>\n      <th>First cluster</th>\n      <th>Resident</th>\n      <th>ADS Run list</th>\n      <th>ADS first cluster</th>\n      <th>ADS resident</th>\n      <th>Index flag</th>\n      <th>Index Run list</th>\n      <th>Index first cluster</th>\n    </tr>\n    <tr>\n      <th>ID</th>\n      <th></th>\n      <th></th>\n      <th></th>\n      <th></th>\n      <th></th>\n      <th></th>\n      <th></th>\n      <th></th>\n      <th></th>\n      <th></th>\n      <th></th>\n      <th></th>\n      <th></th>\n      <th></th>\n      <th></th>\n      <th></th>\n      <th></th>\n      <th></th>\n      <th></th>\n      <th></th>\n      <th></th>\n    </tr>\n  </thead>\n  <tbody>\n    <tr>\n      <th>3</th>\n      <td>3</td>\n      <td>FILE</td>\n      <td>218769397</td>\n      <td>1</td>\n      <td>1</td>\n      <td>01 (Visible file)</td>\n      <td>3</td>\n      <td>0</td>\n      <td>0</td>\n      <td>0</td>\n      <td>...</td>\n      <td></td>\n      <td></td>\n      <td></td>\n      <td>0.0</td>\n      <td></td>\n      <td></td>\n      <td></td>\n      <td></td>\n      <td></td>\n      <td></td>\n    </tr>\n    <tr>\n      <th>8</th>\n      <td>8</td>\n      <td>FILE</td>\n      <td>236350224</td>\n      <td>1</td>\n      <td>1</td>\n      <td>01 (Visible file)</td>\n      <td>8</td>\n      <td>0</td>\n      <td>0</td>\n      <td>0</td>\n      <td>...</td>\n      <td></td>\n      <td></td>\n      <td></td>\n      <td>0.0</td>\n      <td>[(0, 121932652)]</td>\n      <td>0.0</td>\n      <td>1.0</td>\n      <td></td>\n      <td></td>\n      <td></td>\n    </tr>\n    <tr>\n      <th>9</th>\n      <td>9</td>\n      <td>FILE</td>\n      <td>220061830</td>\n      <td>1</td>\n      <td>9</td>\n      <td>Unknown allocation flag</td>\n      <td>9</td>\n      <td>0</td>\n      <td>0</td>\n      <td>0</td>\n      <td>...</td>\n      <td></td>\n      <td></td>\n      <td></td>\n      <td></td>\n      <td></td>\n      <td></td>\n      <td></td>\n      <td>1.0</td>\n      <td></td>\n      <td></td>\n    </tr>\n    <tr>\n      <th>11</th>\n      <td>11</td>\n      <td>FILE</td>\n      <td>218128261</td>\n      <td>1</td>\n      <td>3</td>\n      <td>03 (Visible directory)</td>\n      <td>11</td>\n      <td>0</td>\n      <td>0</td>\n      <td>0</td>\n      <td>...</td>\n      <td></td>\n      <td></td>\n      <td></td>\n      <td></td>\n      <td></td>\n      <td></td>\n      <td></td>\n      <td>0.0</td>\n      <td></td>\n      <td></td>\n    </tr>\n    <tr>\n      <th>12</th>\n      <td>12</td>\n      <td>FILE</td>\n      <td>0</td>\n      <td>0</td>\n      <td>1</td>\n      <td>01 (Visible file)</td>\n      <td>12</td>\n      <td>0</td>\n      <td>0</td>\n      <td>0</td>\n      <td>...</td>\n      <td></td>\n      <td></td>\n      <td></td>\n      <td>0.0</td>\n      <td></td>\n      <td></td>\n      <td></td>\n      <td></td>\n      <td></td>\n      <td></td>\n    </tr>\n    <tr>\n      <th>...</th>\n      <td>...</td>\n      <td>...</td>\n      <td>...</td>\n      <td>...</td>\n      <td>...</td>\n      <td>...</td>\n      <td>...</td>\n      <td>...</td>\n      <td>...</td>\n      <td>...</td>\n      <td>...</td>\n      <td>...</td>\n      <td>...</td>\n      <td>...</td>\n      <td>...</td>\n      <td>...</td>\n      <td>...</td>\n      <td>...</td>\n      <td>...</td>\n      <td>...</td>\n      <td>...</td>\n    </tr>\n    <tr>\n      <th>119620</th>\n      <td>1</td>\n      <td>FILE</td>\n      <td>406707351</td>\n      <td>2</td>\n      <td>3</td>\n      <td>03 (Visible directory)</td>\n      <td>119620</td>\n      <td>0</td>\n      <td>0</td>\n      <td>0</td>\n      <td>...</td>\n      <td>X82C9C~1.122</td>\n      <td></td>\n      <td></td>\n      <td></td>\n      <td></td>\n      <td></td>\n      <td></td>\n      <td>0.0</td>\n      <td></td>\n      <td></td>\n    </tr>\n    <tr>\n      <th>119621</th>\n      <td>1</td>\n      <td>FILE</td>\n      <td>406708775</td>\n      <td>2</td>\n      <td>3</td>\n      <td>03 (Visible directory)</td>\n      <td>119621</td>\n      <td>0</td>\n      <td>0</td>\n      <td>0</td>\n      <td>...</td>\n      <td>AM61C2~1.122</td>\n      <td></td>\n      <td></td>\n      <td></td>\n      <td></td>\n      <td></td>\n      <td></td>\n      <td>0.0</td>\n      <td></td>\n      <td></td>\n    </tr>\n    <tr>\n      <th>119625</th>\n      <td>1</td>\n      <td>FILE</td>\n      <td>406719594</td>\n      <td>2</td>\n      <td>3</td>\n      <td>03 (Visible directory)</td>\n      <td>119625</td>\n      <td>0</td>\n      <td>0</td>\n      <td>0</td>\n      <td>...</td>\n      <td>X8AA62~1.122</td>\n      <td></td>\n      <td></td>\n      <td></td>\n      <td></td>\n      <td></td>\n      <td></td>\n      <td>0.0</td>\n      <td></td>\n      <td></td>\n    </tr>\n    <tr>\n      <th>119626</th>\n      <td>1</td>\n      <td>FILE</td>\n      <td>406721111</td>\n      <td>2</td>\n      <td>3</td>\n      <td>03 (Visible directory)</td>\n      <td>119626</td>\n      <td>0</td>\n      <td>0</td>\n      <td>0</td>\n      <td>...</td>\n      <td>X8F003~1.122</td>\n      <td></td>\n      <td></td>\n      <td></td>\n      <td></td>\n      <td></td>\n      <td></td>\n      <td>0.0</td>\n      <td></td>\n      <td></td>\n    </tr>\n    <tr>\n      <th>119629</th>\n      <td>1</td>\n      <td>FILE</td>\n      <td>406743074</td>\n      <td>2</td>\n      <td>3</td>\n      <td>03 (Visible directory)</td>\n      <td>119629</td>\n      <td>0</td>\n      <td>0</td>\n      <td>0</td>\n      <td>...</td>\n      <td>AM6F4B~1.122</td>\n      <td></td>\n      <td></td>\n      <td></td>\n      <td></td>\n      <td></td>\n      <td></td>\n      <td>0.0</td>\n      <td></td>\n      <td></td>\n    </tr>\n  </tbody>\n</table>\n<p>42030 rows × 33 columns</p>\n</div>"
     },
     "execution_count": 31,
     "metadata": {},
     "output_type": "execute_result"
    }
   ],
   "source": [
    "df_resident = df[(df['Run list'] == '')&(df['Index Run list'] == '')]\n",
    "df_resident"
   ],
   "metadata": {
    "collapsed": false,
    "pycharm": {
     "name": "#%%\n"
    }
   }
  },
  {
   "cell_type": "code",
   "execution_count": 32,
   "outputs": [
    {
     "name": "stdout",
     "output_type": "stream",
     "text": [
      "There are 42030 resident files/index in the MFT\n"
     ]
    }
   ],
   "source": [
    "print(f'There are {len(df_resident)} resident files/index in the MFT')"
   ],
   "metadata": {
    "collapsed": false,
    "pycharm": {
     "name": "#%%\n"
    }
   }
  },
  {
   "cell_type": "code",
   "execution_count": 40,
   "outputs": [
    {
     "data": {
      "text/plain": "        Sequence number FILE/BAAD        LSN  Hard link count  \\\nID                                                              \n0                     1      FILE  403619793                1   \n1                     1      FILE   33560283                1   \n2                     2      FILE   33560353                1   \n4                     4      FILE  474188404                1   \n5                     5      FILE  492368653                1   \n...                 ...       ...        ...              ...   \n119624                1      FILE  406718111                2   \n119627                1      FILE  406737879                2   \n119628                1      FILE  406741555                2   \n119630                1      FILE  406747017                2   \n119631                1      FILE  406756082                2   \n\n        Allocation flag Allocation flag (verbose)  Entry number  \\\nID                                                                \n0                     1         01 (Visible file)             0   \n1                     1         01 (Visible file)             1   \n2                     1         01 (Visible file)             2   \n4                     1         01 (Visible file)             4   \n5                     3    03 (Visible directory)             5   \n...                 ...                       ...           ...   \n119624                3    03 (Visible directory)        119624   \n119627                3    03 (Visible directory)        119627   \n119628                3    03 (Visible directory)        119628   \n119630                3    03 (Visible directory)        119630   \n119631                3    03 (Visible directory)        119631   \n\n        Base record reference  Base record entry number  \\\nID                                                        \n0                           0                         0   \n1                           0                         0   \n2                           0                         0   \n4                           0                         0   \n5                           0                         0   \n...                       ...                       ...   \n119624                      0                         0   \n119627                      0                         0   \n119628                      0                         0   \n119630                      0                         0   \n119631                      0                         0   \n\n        Base record sequence number  ...     Filename2  \\\nID                                   ...                 \n0                                 0  ...                 \n1                                 0  ...                 \n2                                 0  ...                 \n4                                 0  ...                 \n5                                 0  ...                 \n...                             ...  ...           ...   \n119624                            0  ...  X8533D~1.122   \n119627                            0  ...  X8D5D4~1.122   \n119628                            0  ...  X8E136~1.122   \n119630                            0  ...  X83383~1.122   \n119631                            0  ...  AMC918~1.122   \n\n                                                 Run list First cluster  \\\nID                                                                        \n0       [(786432, 26048), (3226912, 3714), (2034988, 6...      786432.0   \n1                                                [(2, 1)]           2.0   \n2                                       [(766321, 16384)]      766321.0   \n4                                           [(867413, 1)]      867413.0   \n5                                                                         \n...                                                   ...           ...   \n119624                                                                    \n119627                                                                    \n119628                                                                    \n119630                                                                    \n119631                                                                    \n\n       Resident ADS Run list ADS first cluster ADS resident Index flag  \\\nID                                                                       \n0           1.0                                                          \n1           1.0                                                          \n2           1.0                                                          \n4           1.0                                                          \n5                                                                  1.0   \n...         ...          ...               ...          ...        ...   \n119624                                                             1.0   \n119627                                                             1.0   \n119628                                                             1.0   \n119630                                                             1.0   \n119631                                                             1.0   \n\n        Index Run list Index first cluster  \nID                                          \n0                                           \n1                                           \n2                                           \n4                                           \n5             [(5, 2)]                 5.0  \n...                ...                 ...  \n119624  [(4621712, 1)]           4621712.0  \n119627  [(4621713, 1)]           4621713.0  \n119628  [(4621714, 1)]           4621714.0  \n119630  [(4621715, 1)]           4621715.0  \n119631  [(4621716, 1)]           4621716.0  \n\n[77594 rows x 33 columns]",
      "text/html": "<div>\n<style scoped>\n    .dataframe tbody tr th:only-of-type {\n        vertical-align: middle;\n    }\n\n    .dataframe tbody tr th {\n        vertical-align: top;\n    }\n\n    .dataframe thead th {\n        text-align: right;\n    }\n</style>\n<table border=\"1\" class=\"dataframe\">\n  <thead>\n    <tr style=\"text-align: right;\">\n      <th></th>\n      <th>Sequence number</th>\n      <th>FILE/BAAD</th>\n      <th>LSN</th>\n      <th>Hard link count</th>\n      <th>Allocation flag</th>\n      <th>Allocation flag (verbose)</th>\n      <th>Entry number</th>\n      <th>Base record reference</th>\n      <th>Base record entry number</th>\n      <th>Base record sequence number</th>\n      <th>...</th>\n      <th>Filename2</th>\n      <th>Run list</th>\n      <th>First cluster</th>\n      <th>Resident</th>\n      <th>ADS Run list</th>\n      <th>ADS first cluster</th>\n      <th>ADS resident</th>\n      <th>Index flag</th>\n      <th>Index Run list</th>\n      <th>Index first cluster</th>\n    </tr>\n    <tr>\n      <th>ID</th>\n      <th></th>\n      <th></th>\n      <th></th>\n      <th></th>\n      <th></th>\n      <th></th>\n      <th></th>\n      <th></th>\n      <th></th>\n      <th></th>\n      <th></th>\n      <th></th>\n      <th></th>\n      <th></th>\n      <th></th>\n      <th></th>\n      <th></th>\n      <th></th>\n      <th></th>\n      <th></th>\n      <th></th>\n    </tr>\n  </thead>\n  <tbody>\n    <tr>\n      <th>0</th>\n      <td>1</td>\n      <td>FILE</td>\n      <td>403619793</td>\n      <td>1</td>\n      <td>1</td>\n      <td>01 (Visible file)</td>\n      <td>0</td>\n      <td>0</td>\n      <td>0</td>\n      <td>0</td>\n      <td>...</td>\n      <td></td>\n      <td>[(786432, 26048), (3226912, 3714), (2034988, 6...</td>\n      <td>786432.0</td>\n      <td>1.0</td>\n      <td></td>\n      <td></td>\n      <td></td>\n      <td></td>\n      <td></td>\n      <td></td>\n    </tr>\n    <tr>\n      <th>1</th>\n      <td>1</td>\n      <td>FILE</td>\n      <td>33560283</td>\n      <td>1</td>\n      <td>1</td>\n      <td>01 (Visible file)</td>\n      <td>1</td>\n      <td>0</td>\n      <td>0</td>\n      <td>0</td>\n      <td>...</td>\n      <td></td>\n      <td>[(2, 1)]</td>\n      <td>2.0</td>\n      <td>1.0</td>\n      <td></td>\n      <td></td>\n      <td></td>\n      <td></td>\n      <td></td>\n      <td></td>\n    </tr>\n    <tr>\n      <th>2</th>\n      <td>2</td>\n      <td>FILE</td>\n      <td>33560353</td>\n      <td>1</td>\n      <td>1</td>\n      <td>01 (Visible file)</td>\n      <td>2</td>\n      <td>0</td>\n      <td>0</td>\n      <td>0</td>\n      <td>...</td>\n      <td></td>\n      <td>[(766321, 16384)]</td>\n      <td>766321.0</td>\n      <td>1.0</td>\n      <td></td>\n      <td></td>\n      <td></td>\n      <td></td>\n      <td></td>\n      <td></td>\n    </tr>\n    <tr>\n      <th>4</th>\n      <td>4</td>\n      <td>FILE</td>\n      <td>474188404</td>\n      <td>1</td>\n      <td>1</td>\n      <td>01 (Visible file)</td>\n      <td>4</td>\n      <td>0</td>\n      <td>0</td>\n      <td>0</td>\n      <td>...</td>\n      <td></td>\n      <td>[(867413, 1)]</td>\n      <td>867413.0</td>\n      <td>1.0</td>\n      <td></td>\n      <td></td>\n      <td></td>\n      <td></td>\n      <td></td>\n      <td></td>\n    </tr>\n    <tr>\n      <th>5</th>\n      <td>5</td>\n      <td>FILE</td>\n      <td>492368653</td>\n      <td>1</td>\n      <td>3</td>\n      <td>03 (Visible directory)</td>\n      <td>5</td>\n      <td>0</td>\n      <td>0</td>\n      <td>0</td>\n      <td>...</td>\n      <td></td>\n      <td></td>\n      <td></td>\n      <td></td>\n      <td></td>\n      <td></td>\n      <td></td>\n      <td>1.0</td>\n      <td>[(5, 2)]</td>\n      <td>5.0</td>\n    </tr>\n    <tr>\n      <th>...</th>\n      <td>...</td>\n      <td>...</td>\n      <td>...</td>\n      <td>...</td>\n      <td>...</td>\n      <td>...</td>\n      <td>...</td>\n      <td>...</td>\n      <td>...</td>\n      <td>...</td>\n      <td>...</td>\n      <td>...</td>\n      <td>...</td>\n      <td>...</td>\n      <td>...</td>\n      <td>...</td>\n      <td>...</td>\n      <td>...</td>\n      <td>...</td>\n      <td>...</td>\n      <td>...</td>\n    </tr>\n    <tr>\n      <th>119624</th>\n      <td>1</td>\n      <td>FILE</td>\n      <td>406718111</td>\n      <td>2</td>\n      <td>3</td>\n      <td>03 (Visible directory)</td>\n      <td>119624</td>\n      <td>0</td>\n      <td>0</td>\n      <td>0</td>\n      <td>...</td>\n      <td>X8533D~1.122</td>\n      <td></td>\n      <td></td>\n      <td></td>\n      <td></td>\n      <td></td>\n      <td></td>\n      <td>1.0</td>\n      <td>[(4621712, 1)]</td>\n      <td>4621712.0</td>\n    </tr>\n    <tr>\n      <th>119627</th>\n      <td>1</td>\n      <td>FILE</td>\n      <td>406737879</td>\n      <td>2</td>\n      <td>3</td>\n      <td>03 (Visible directory)</td>\n      <td>119627</td>\n      <td>0</td>\n      <td>0</td>\n      <td>0</td>\n      <td>...</td>\n      <td>X8D5D4~1.122</td>\n      <td></td>\n      <td></td>\n      <td></td>\n      <td></td>\n      <td></td>\n      <td></td>\n      <td>1.0</td>\n      <td>[(4621713, 1)]</td>\n      <td>4621713.0</td>\n    </tr>\n    <tr>\n      <th>119628</th>\n      <td>1</td>\n      <td>FILE</td>\n      <td>406741555</td>\n      <td>2</td>\n      <td>3</td>\n      <td>03 (Visible directory)</td>\n      <td>119628</td>\n      <td>0</td>\n      <td>0</td>\n      <td>0</td>\n      <td>...</td>\n      <td>X8E136~1.122</td>\n      <td></td>\n      <td></td>\n      <td></td>\n      <td></td>\n      <td></td>\n      <td></td>\n      <td>1.0</td>\n      <td>[(4621714, 1)]</td>\n      <td>4621714.0</td>\n    </tr>\n    <tr>\n      <th>119630</th>\n      <td>1</td>\n      <td>FILE</td>\n      <td>406747017</td>\n      <td>2</td>\n      <td>3</td>\n      <td>03 (Visible directory)</td>\n      <td>119630</td>\n      <td>0</td>\n      <td>0</td>\n      <td>0</td>\n      <td>...</td>\n      <td>X83383~1.122</td>\n      <td></td>\n      <td></td>\n      <td></td>\n      <td></td>\n      <td></td>\n      <td></td>\n      <td>1.0</td>\n      <td>[(4621715, 1)]</td>\n      <td>4621715.0</td>\n    </tr>\n    <tr>\n      <th>119631</th>\n      <td>1</td>\n      <td>FILE</td>\n      <td>406756082</td>\n      <td>2</td>\n      <td>3</td>\n      <td>03 (Visible directory)</td>\n      <td>119631</td>\n      <td>0</td>\n      <td>0</td>\n      <td>0</td>\n      <td>...</td>\n      <td>AMC918~1.122</td>\n      <td></td>\n      <td></td>\n      <td></td>\n      <td></td>\n      <td></td>\n      <td></td>\n      <td>1.0</td>\n      <td>[(4621716, 1)]</td>\n      <td>4621716.0</td>\n    </tr>\n  </tbody>\n</table>\n<p>77594 rows × 33 columns</p>\n</div>"
     },
     "execution_count": 40,
     "metadata": {},
     "output_type": "execute_result"
    }
   ],
   "source": [
    "df_non_resident = df[~(df['Run list'] == '')|~(df['Index Run list'] == '')]\n",
    "df_non_resident"
   ],
   "metadata": {
    "collapsed": false,
    "pycharm": {
     "name": "#%%\n"
    }
   }
  },
  {
   "cell_type": "code",
   "execution_count": 45,
   "outputs": [
    {
     "name": "stderr",
     "output_type": "stream",
     "text": [
      "C:\\Users\\celin\\AppData\\Local\\Temp\\ipykernel_14988\\362528631.py:1: SettingWithCopyWarning: \n",
      "A value is trying to be set on a copy of a slice from a DataFrame.\n",
      "Try using .loc[row_indexer,col_indexer] = value instead\n",
      "\n",
      "See the caveats in the documentation: https://pandas.pydata.org/pandas-docs/stable/user_guide/indexing.html#returning-a-view-versus-a-copy\n",
      "  df_non_resident['Data run'] = df_non_resident['Run list'] + df_non_resident['Index Run list']\n"
     ]
    }
   ],
   "source": [
    "df_non_resident['Data run'] = df_non_resident['Run list'] + df_non_resident['Index Run list']"
   ],
   "metadata": {
    "collapsed": false,
    "pycharm": {
     "name": "#%%\n"
    }
   }
  },
  {
   "cell_type": "code",
   "execution_count": 44,
   "outputs": [
    {
     "ename": "SyntaxError",
     "evalue": "unexpected EOF while parsing (<unknown>, line 0)",
     "output_type": "error",
     "traceback": [
      "Traceback \u001B[1;36m(most recent call last)\u001B[0m:\n",
      "  File \u001B[0;32mc:\\users\\celin\\université\\ma2s2\\travail de master\\forensic-tools\\venv\\lib\\site-packages\\IPython\\core\\interactiveshell.py:3369\u001B[0m in \u001B[0;35mrun_code\u001B[0m\n    exec(code_obj, self.user_global_ns, self.user_ns)\n",
      "  Input \u001B[0;32mIn [44]\u001B[0m in \u001B[0;35m<cell line: 1>\u001B[0m\n    df_non_resident['Run list'] = df_non_resident['Run list'].apply(lambda x: literal_eval(x))\n",
      "  File \u001B[0;32mc:\\users\\celin\\université\\ma2s2\\travail de master\\forensic-tools\\venv\\lib\\site-packages\\pandas\\core\\series.py:4433\u001B[0m in \u001B[0;35mapply\u001B[0m\n    return SeriesApply(self, func, convert_dtype, args, kwargs).apply()\n",
      "  File \u001B[0;32mc:\\users\\celin\\université\\ma2s2\\travail de master\\forensic-tools\\venv\\lib\\site-packages\\pandas\\core\\apply.py:1082\u001B[0m in \u001B[0;35mapply\u001B[0m\n    return self.apply_standard()\n",
      "  File \u001B[0;32mc:\\users\\celin\\université\\ma2s2\\travail de master\\forensic-tools\\venv\\lib\\site-packages\\pandas\\core\\apply.py:1137\u001B[0m in \u001B[0;35mapply_standard\u001B[0m\n    mapped = lib.map_infer(\n",
      "  File \u001B[0;32mpandas\\_libs\\lib.pyx:2870\u001B[0m in \u001B[0;35mpandas._libs.lib.map_infer\u001B[0m\n",
      "  Input \u001B[0;32mIn [44]\u001B[0m in \u001B[0;35m<lambda>\u001B[0m\n    df_non_resident['Run list'] = df_non_resident['Run list'].apply(lambda x: literal_eval(x))\n",
      "  File \u001B[0;32m~\\AppData\\Local\\Programs\\Python\\Python310\\lib\\ast.py:62\u001B[0m in \u001B[0;35mliteral_eval\u001B[0m\n    node_or_string = parse(node_or_string.lstrip(\" \\t\"), mode='eval')\n",
      "\u001B[1;36m  File \u001B[1;32m~\\AppData\\Local\\Programs\\Python\\Python310\\lib\\ast.py:50\u001B[1;36m in \u001B[1;35mparse\u001B[1;36m\u001B[0m\n\u001B[1;33m    return compile(source, filename, mode, flags,\u001B[0m\n",
      "\u001B[1;36m  File \u001B[1;32m<unknown>\u001B[1;36m\u001B[0m\n\u001B[1;33m    \u001B[0m\n\u001B[1;37m    ^\u001B[0m\n\u001B[1;31mSyntaxError\u001B[0m\u001B[1;31m:\u001B[0m unexpected EOF while parsing\n"
     ]
    }
   ],
   "source": [
    "df_non_resident['Run list'] = df_non_resident['Run list'].apply(lambda x: literal_eval(x))"
   ],
   "metadata": {
    "collapsed": false,
    "pycharm": {
     "name": "#%%\n"
    }
   }
  },
  {
   "cell_type": "code",
   "execution_count": 151,
   "outputs": [
    {
     "data": {
      "text/plain": "        Sequence number FILE/BAAD        LSN  Hard link count  \\\nID                                                              \n0                     1      FILE  403619793                1   \n1                     1      FILE   33560283                1   \n2                     2      FILE   33560353                1   \n3                     3      FILE  218769397                1   \n4                     4      FILE  474188404                1   \n...                 ...       ...        ...              ...   \n119627                1      FILE  406737879                2   \n119628                1      FILE  406741555                2   \n119629                1      FILE  406743074                2   \n119630                1      FILE  406747017                2   \n119631                1      FILE  406756082                2   \n\n        Allocation flag Allocation flag (verbose)  Entry number  \\\nID                                                                \n0                     1         01 (Visible file)             0   \n1                     1         01 (Visible file)             1   \n2                     1         01 (Visible file)             2   \n3                     1         01 (Visible file)             3   \n4                     1         01 (Visible file)             4   \n...                 ...                       ...           ...   \n119627                3    03 (Visible directory)        119627   \n119628                3    03 (Visible directory)        119628   \n119629                3    03 (Visible directory)        119629   \n119630                3    03 (Visible directory)        119630   \n119631                3    03 (Visible directory)        119631   \n\n        Base record reference  Base record entry number  \\\nID                                                        \n0                           0                         0   \n1                           0                         0   \n2                           0                         0   \n3                           0                         0   \n4                           0                         0   \n...                       ...                       ...   \n119627                      0                         0   \n119628                      0                         0   \n119629                      0                         0   \n119630                      0                         0   \n119631                      0                         0   \n\n        Base record sequence number  ...     Filename2  \\\nID                                   ...                 \n0                                 0  ...           NaN   \n1                                 0  ...           NaN   \n2                                 0  ...           NaN   \n3                                 0  ...           NaN   \n4                                 0  ...           NaN   \n...                             ...  ...           ...   \n119627                            0  ...  X8D5D4~1.122   \n119628                            0  ...  X8E136~1.122   \n119629                            0  ...  AM6F4B~1.122   \n119630                            0  ...  X83383~1.122   \n119631                            0  ...  AMC918~1.122   \n\n                                                 Run list First cluster  \\\nID                                                                        \n0       [(786432, 26048), (3226912, 3714), (2034988, 6...      786432.0   \n1                                                [(2, 1)]           2.0   \n2                                       [(766321, 16384)]      766321.0   \n3                                                     NaN           NaN   \n4                                           [(867413, 1)]      867413.0   \n...                                                   ...           ...   \n119627                                                NaN           NaN   \n119628                                                NaN           NaN   \n119629                                                NaN           NaN   \n119630                                                NaN           NaN   \n119631                                                NaN           NaN   \n\n       Resident ADS Run list ADS first cluster  ADS resident Index flag  \\\nID                                                                        \n0           1.0          NaN               NaN           NaN        NaN   \n1           1.0          NaN               NaN           NaN        NaN   \n2           1.0          NaN               NaN           NaN        NaN   \n3           0.0          NaN               NaN           NaN        NaN   \n4           1.0          NaN               NaN           NaN        NaN   \n...         ...          ...               ...           ...        ...   \n119627      NaN          NaN               NaN           NaN        1.0   \n119628      NaN          NaN               NaN           NaN        1.0   \n119629      NaN          NaN               NaN           NaN        0.0   \n119630      NaN          NaN               NaN           NaN        1.0   \n119631      NaN          NaN               NaN           NaN        1.0   \n\n        Index Run list Index first cluster  \nID                                          \n0                  NaN                 NaN  \n1                  NaN                 NaN  \n2                  NaN                 NaN  \n3                  NaN                 NaN  \n4                  NaN                 NaN  \n...                ...                 ...  \n119627  [(4621713, 1)]           4621713.0  \n119628  [(4621714, 1)]           4621714.0  \n119629             NaN                 NaN  \n119630  [(4621715, 1)]           4621715.0  \n119631  [(4621716, 1)]           4621716.0  \n\n[119624 rows x 33 columns]",
      "text/html": "<div>\n<style scoped>\n    .dataframe tbody tr th:only-of-type {\n        vertical-align: middle;\n    }\n\n    .dataframe tbody tr th {\n        vertical-align: top;\n    }\n\n    .dataframe thead th {\n        text-align: right;\n    }\n</style>\n<table border=\"1\" class=\"dataframe\">\n  <thead>\n    <tr style=\"text-align: right;\">\n      <th></th>\n      <th>Sequence number</th>\n      <th>FILE/BAAD</th>\n      <th>LSN</th>\n      <th>Hard link count</th>\n      <th>Allocation flag</th>\n      <th>Allocation flag (verbose)</th>\n      <th>Entry number</th>\n      <th>Base record reference</th>\n      <th>Base record entry number</th>\n      <th>Base record sequence number</th>\n      <th>...</th>\n      <th>Filename2</th>\n      <th>Run list</th>\n      <th>First cluster</th>\n      <th>Resident</th>\n      <th>ADS Run list</th>\n      <th>ADS first cluster</th>\n      <th>ADS resident</th>\n      <th>Index flag</th>\n      <th>Index Run list</th>\n      <th>Index first cluster</th>\n    </tr>\n    <tr>\n      <th>ID</th>\n      <th></th>\n      <th></th>\n      <th></th>\n      <th></th>\n      <th></th>\n      <th></th>\n      <th></th>\n      <th></th>\n      <th></th>\n      <th></th>\n      <th></th>\n      <th></th>\n      <th></th>\n      <th></th>\n      <th></th>\n      <th></th>\n      <th></th>\n      <th></th>\n      <th></th>\n      <th></th>\n      <th></th>\n    </tr>\n  </thead>\n  <tbody>\n    <tr>\n      <th>0</th>\n      <td>1</td>\n      <td>FILE</td>\n      <td>403619793</td>\n      <td>1</td>\n      <td>1</td>\n      <td>01 (Visible file)</td>\n      <td>0</td>\n      <td>0</td>\n      <td>0</td>\n      <td>0</td>\n      <td>...</td>\n      <td>NaN</td>\n      <td>[(786432, 26048), (3226912, 3714), (2034988, 6...</td>\n      <td>786432.0</td>\n      <td>1.0</td>\n      <td>NaN</td>\n      <td>NaN</td>\n      <td>NaN</td>\n      <td>NaN</td>\n      <td>NaN</td>\n      <td>NaN</td>\n    </tr>\n    <tr>\n      <th>1</th>\n      <td>1</td>\n      <td>FILE</td>\n      <td>33560283</td>\n      <td>1</td>\n      <td>1</td>\n      <td>01 (Visible file)</td>\n      <td>1</td>\n      <td>0</td>\n      <td>0</td>\n      <td>0</td>\n      <td>...</td>\n      <td>NaN</td>\n      <td>[(2, 1)]</td>\n      <td>2.0</td>\n      <td>1.0</td>\n      <td>NaN</td>\n      <td>NaN</td>\n      <td>NaN</td>\n      <td>NaN</td>\n      <td>NaN</td>\n      <td>NaN</td>\n    </tr>\n    <tr>\n      <th>2</th>\n      <td>2</td>\n      <td>FILE</td>\n      <td>33560353</td>\n      <td>1</td>\n      <td>1</td>\n      <td>01 (Visible file)</td>\n      <td>2</td>\n      <td>0</td>\n      <td>0</td>\n      <td>0</td>\n      <td>...</td>\n      <td>NaN</td>\n      <td>[(766321, 16384)]</td>\n      <td>766321.0</td>\n      <td>1.0</td>\n      <td>NaN</td>\n      <td>NaN</td>\n      <td>NaN</td>\n      <td>NaN</td>\n      <td>NaN</td>\n      <td>NaN</td>\n    </tr>\n    <tr>\n      <th>3</th>\n      <td>3</td>\n      <td>FILE</td>\n      <td>218769397</td>\n      <td>1</td>\n      <td>1</td>\n      <td>01 (Visible file)</td>\n      <td>3</td>\n      <td>0</td>\n      <td>0</td>\n      <td>0</td>\n      <td>...</td>\n      <td>NaN</td>\n      <td>NaN</td>\n      <td>NaN</td>\n      <td>0.0</td>\n      <td>NaN</td>\n      <td>NaN</td>\n      <td>NaN</td>\n      <td>NaN</td>\n      <td>NaN</td>\n      <td>NaN</td>\n    </tr>\n    <tr>\n      <th>4</th>\n      <td>4</td>\n      <td>FILE</td>\n      <td>474188404</td>\n      <td>1</td>\n      <td>1</td>\n      <td>01 (Visible file)</td>\n      <td>4</td>\n      <td>0</td>\n      <td>0</td>\n      <td>0</td>\n      <td>...</td>\n      <td>NaN</td>\n      <td>[(867413, 1)]</td>\n      <td>867413.0</td>\n      <td>1.0</td>\n      <td>NaN</td>\n      <td>NaN</td>\n      <td>NaN</td>\n      <td>NaN</td>\n      <td>NaN</td>\n      <td>NaN</td>\n    </tr>\n    <tr>\n      <th>...</th>\n      <td>...</td>\n      <td>...</td>\n      <td>...</td>\n      <td>...</td>\n      <td>...</td>\n      <td>...</td>\n      <td>...</td>\n      <td>...</td>\n      <td>...</td>\n      <td>...</td>\n      <td>...</td>\n      <td>...</td>\n      <td>...</td>\n      <td>...</td>\n      <td>...</td>\n      <td>...</td>\n      <td>...</td>\n      <td>...</td>\n      <td>...</td>\n      <td>...</td>\n      <td>...</td>\n    </tr>\n    <tr>\n      <th>119627</th>\n      <td>1</td>\n      <td>FILE</td>\n      <td>406737879</td>\n      <td>2</td>\n      <td>3</td>\n      <td>03 (Visible directory)</td>\n      <td>119627</td>\n      <td>0</td>\n      <td>0</td>\n      <td>0</td>\n      <td>...</td>\n      <td>X8D5D4~1.122</td>\n      <td>NaN</td>\n      <td>NaN</td>\n      <td>NaN</td>\n      <td>NaN</td>\n      <td>NaN</td>\n      <td>NaN</td>\n      <td>1.0</td>\n      <td>[(4621713, 1)]</td>\n      <td>4621713.0</td>\n    </tr>\n    <tr>\n      <th>119628</th>\n      <td>1</td>\n      <td>FILE</td>\n      <td>406741555</td>\n      <td>2</td>\n      <td>3</td>\n      <td>03 (Visible directory)</td>\n      <td>119628</td>\n      <td>0</td>\n      <td>0</td>\n      <td>0</td>\n      <td>...</td>\n      <td>X8E136~1.122</td>\n      <td>NaN</td>\n      <td>NaN</td>\n      <td>NaN</td>\n      <td>NaN</td>\n      <td>NaN</td>\n      <td>NaN</td>\n      <td>1.0</td>\n      <td>[(4621714, 1)]</td>\n      <td>4621714.0</td>\n    </tr>\n    <tr>\n      <th>119629</th>\n      <td>1</td>\n      <td>FILE</td>\n      <td>406743074</td>\n      <td>2</td>\n      <td>3</td>\n      <td>03 (Visible directory)</td>\n      <td>119629</td>\n      <td>0</td>\n      <td>0</td>\n      <td>0</td>\n      <td>...</td>\n      <td>AM6F4B~1.122</td>\n      <td>NaN</td>\n      <td>NaN</td>\n      <td>NaN</td>\n      <td>NaN</td>\n      <td>NaN</td>\n      <td>NaN</td>\n      <td>0.0</td>\n      <td>NaN</td>\n      <td>NaN</td>\n    </tr>\n    <tr>\n      <th>119630</th>\n      <td>1</td>\n      <td>FILE</td>\n      <td>406747017</td>\n      <td>2</td>\n      <td>3</td>\n      <td>03 (Visible directory)</td>\n      <td>119630</td>\n      <td>0</td>\n      <td>0</td>\n      <td>0</td>\n      <td>...</td>\n      <td>X83383~1.122</td>\n      <td>NaN</td>\n      <td>NaN</td>\n      <td>NaN</td>\n      <td>NaN</td>\n      <td>NaN</td>\n      <td>NaN</td>\n      <td>1.0</td>\n      <td>[(4621715, 1)]</td>\n      <td>4621715.0</td>\n    </tr>\n    <tr>\n      <th>119631</th>\n      <td>1</td>\n      <td>FILE</td>\n      <td>406756082</td>\n      <td>2</td>\n      <td>3</td>\n      <td>03 (Visible directory)</td>\n      <td>119631</td>\n      <td>0</td>\n      <td>0</td>\n      <td>0</td>\n      <td>...</td>\n      <td>AMC918~1.122</td>\n      <td>NaN</td>\n      <td>NaN</td>\n      <td>NaN</td>\n      <td>NaN</td>\n      <td>NaN</td>\n      <td>NaN</td>\n      <td>1.0</td>\n      <td>[(4621716, 1)]</td>\n      <td>4621716.0</td>\n    </tr>\n  </tbody>\n</table>\n<p>119624 rows × 33 columns</p>\n</div>"
     },
     "execution_count": 151,
     "metadata": {},
     "output_type": "execute_result"
    }
   ],
   "source": [
    "df"
   ],
   "metadata": {
    "collapsed": false,
    "pycharm": {
     "name": "#%%\n"
    }
   }
  },
  {
   "cell_type": "code",
   "execution_count": 147,
   "outputs": [
    {
     "ename": "ValueError",
     "evalue": "Cannot index with multidimensional key",
     "output_type": "error",
     "traceback": [
      "\u001B[1;31m---------------------------------------------------------------------------\u001B[0m",
      "\u001B[1;31mValueError\u001B[0m                                Traceback (most recent call last)",
      "Input \u001B[1;32mIn [147]\u001B[0m, in \u001B[0;36m<cell line: 1>\u001B[1;34m()\u001B[0m\n\u001B[1;32m----> 1\u001B[0m d \u001B[38;5;241m=\u001B[39m literal_eval(\u001B[43mdf\u001B[49m\u001B[38;5;241;43m.\u001B[39;49m\u001B[43mloc\u001B[49m\u001B[43m[\u001B[49m\u001B[43mdf\u001B[49m\u001B[43m,\u001B[49m\u001B[43m \u001B[49m\u001B[38;5;124;43m'\u001B[39;49m\u001B[38;5;124;43mRun list\u001B[39;49m\u001B[38;5;124;43m'\u001B[39;49m\u001B[43m]\u001B[49m)\n\u001B[0;32m      2\u001B[0m d[\u001B[38;5;241m0\u001B[39m]\n",
      "File \u001B[1;32mc:\\users\\celin\\université\\ma2s2\\travail de master\\forensic-tools\\venv\\lib\\site-packages\\pandas\\core\\indexing.py:961\u001B[0m, in \u001B[0;36m_LocationIndexer.__getitem__\u001B[1;34m(self, key)\u001B[0m\n\u001B[0;32m    959\u001B[0m     \u001B[38;5;28;01mif\u001B[39;00m \u001B[38;5;28mself\u001B[39m\u001B[38;5;241m.\u001B[39m_is_scalar_access(key):\n\u001B[0;32m    960\u001B[0m         \u001B[38;5;28;01mreturn\u001B[39;00m \u001B[38;5;28mself\u001B[39m\u001B[38;5;241m.\u001B[39mobj\u001B[38;5;241m.\u001B[39m_get_value(\u001B[38;5;241m*\u001B[39mkey, takeable\u001B[38;5;241m=\u001B[39m\u001B[38;5;28mself\u001B[39m\u001B[38;5;241m.\u001B[39m_takeable)\n\u001B[1;32m--> 961\u001B[0m     \u001B[38;5;28;01mreturn\u001B[39;00m \u001B[38;5;28;43mself\u001B[39;49m\u001B[38;5;241;43m.\u001B[39;49m\u001B[43m_getitem_tuple\u001B[49m\u001B[43m(\u001B[49m\u001B[43mkey\u001B[49m\u001B[43m)\u001B[49m\n\u001B[0;32m    962\u001B[0m \u001B[38;5;28;01melse\u001B[39;00m:\n\u001B[0;32m    963\u001B[0m     \u001B[38;5;66;03m# we by definition only have the 0th axis\u001B[39;00m\n\u001B[0;32m    964\u001B[0m     axis \u001B[38;5;241m=\u001B[39m \u001B[38;5;28mself\u001B[39m\u001B[38;5;241m.\u001B[39maxis \u001B[38;5;129;01mor\u001B[39;00m \u001B[38;5;241m0\u001B[39m\n",
      "File \u001B[1;32mc:\\users\\celin\\université\\ma2s2\\travail de master\\forensic-tools\\venv\\lib\\site-packages\\pandas\\core\\indexing.py:1140\u001B[0m, in \u001B[0;36m_LocIndexer._getitem_tuple\u001B[1;34m(self, tup)\u001B[0m\n\u001B[0;32m   1138\u001B[0m \u001B[38;5;28;01mwith\u001B[39;00m suppress(IndexingError):\n\u001B[0;32m   1139\u001B[0m     tup \u001B[38;5;241m=\u001B[39m \u001B[38;5;28mself\u001B[39m\u001B[38;5;241m.\u001B[39m_expand_ellipsis(tup)\n\u001B[1;32m-> 1140\u001B[0m     \u001B[38;5;28;01mreturn\u001B[39;00m \u001B[38;5;28;43mself\u001B[39;49m\u001B[38;5;241;43m.\u001B[39;49m\u001B[43m_getitem_lowerdim\u001B[49m\u001B[43m(\u001B[49m\u001B[43mtup\u001B[49m\u001B[43m)\u001B[49m\n\u001B[0;32m   1142\u001B[0m \u001B[38;5;66;03m# no multi-index, so validate all of the indexers\u001B[39;00m\n\u001B[0;32m   1143\u001B[0m tup \u001B[38;5;241m=\u001B[39m \u001B[38;5;28mself\u001B[39m\u001B[38;5;241m.\u001B[39m_validate_tuple_indexer(tup)\n",
      "File \u001B[1;32mc:\\users\\celin\\université\\ma2s2\\travail de master\\forensic-tools\\venv\\lib\\site-packages\\pandas\\core\\indexing.py:891\u001B[0m, in \u001B[0;36m_LocationIndexer._getitem_lowerdim\u001B[1;34m(self, tup)\u001B[0m\n\u001B[0;32m    889\u001B[0m             \u001B[38;5;28;01mreturn\u001B[39;00m section\n\u001B[0;32m    890\u001B[0m         \u001B[38;5;66;03m# This is an elided recursive call to iloc/loc\u001B[39;00m\n\u001B[1;32m--> 891\u001B[0m         \u001B[38;5;28;01mreturn\u001B[39;00m \u001B[38;5;28;43mgetattr\u001B[39;49m\u001B[43m(\u001B[49m\u001B[43msection\u001B[49m\u001B[43m,\u001B[49m\u001B[43m \u001B[49m\u001B[38;5;28;43mself\u001B[39;49m\u001B[38;5;241;43m.\u001B[39;49m\u001B[43mname\u001B[49m\u001B[43m)\u001B[49m\u001B[43m[\u001B[49m\u001B[43mnew_key\u001B[49m\u001B[43m]\u001B[49m\n\u001B[0;32m    893\u001B[0m \u001B[38;5;28;01mraise\u001B[39;00m IndexingError(\u001B[38;5;124m\"\u001B[39m\u001B[38;5;124mnot applicable\u001B[39m\u001B[38;5;124m\"\u001B[39m)\n",
      "File \u001B[1;32mc:\\users\\celin\\université\\ma2s2\\travail de master\\forensic-tools\\venv\\lib\\site-packages\\pandas\\core\\indexing.py:967\u001B[0m, in \u001B[0;36m_LocationIndexer.__getitem__\u001B[1;34m(self, key)\u001B[0m\n\u001B[0;32m    964\u001B[0m axis \u001B[38;5;241m=\u001B[39m \u001B[38;5;28mself\u001B[39m\u001B[38;5;241m.\u001B[39maxis \u001B[38;5;129;01mor\u001B[39;00m \u001B[38;5;241m0\u001B[39m\n\u001B[0;32m    966\u001B[0m maybe_callable \u001B[38;5;241m=\u001B[39m com\u001B[38;5;241m.\u001B[39mapply_if_callable(key, \u001B[38;5;28mself\u001B[39m\u001B[38;5;241m.\u001B[39mobj)\n\u001B[1;32m--> 967\u001B[0m \u001B[38;5;28;01mreturn\u001B[39;00m \u001B[38;5;28;43mself\u001B[39;49m\u001B[38;5;241;43m.\u001B[39;49m\u001B[43m_getitem_axis\u001B[49m\u001B[43m(\u001B[49m\u001B[43mmaybe_callable\u001B[49m\u001B[43m,\u001B[49m\u001B[43m \u001B[49m\u001B[43maxis\u001B[49m\u001B[38;5;241;43m=\u001B[39;49m\u001B[43maxis\u001B[49m\u001B[43m)\u001B[49m\n",
      "File \u001B[1;32mc:\\users\\celin\\université\\ma2s2\\travail de master\\forensic-tools\\venv\\lib\\site-packages\\pandas\\core\\indexing.py:1189\u001B[0m, in \u001B[0;36m_LocIndexer._getitem_axis\u001B[1;34m(self, key, axis)\u001B[0m\n\u001B[0;32m   1186\u001B[0m \u001B[38;5;28;01mif\u001B[39;00m \u001B[38;5;129;01mnot\u001B[39;00m (\u001B[38;5;28misinstance\u001B[39m(key, \u001B[38;5;28mtuple\u001B[39m) \u001B[38;5;129;01mand\u001B[39;00m \u001B[38;5;28misinstance\u001B[39m(labels, MultiIndex)):\n\u001B[0;32m   1188\u001B[0m     \u001B[38;5;28;01mif\u001B[39;00m \u001B[38;5;28mhasattr\u001B[39m(key, \u001B[38;5;124m\"\u001B[39m\u001B[38;5;124mndim\u001B[39m\u001B[38;5;124m\"\u001B[39m) \u001B[38;5;129;01mand\u001B[39;00m key\u001B[38;5;241m.\u001B[39mndim \u001B[38;5;241m>\u001B[39m \u001B[38;5;241m1\u001B[39m:\n\u001B[1;32m-> 1189\u001B[0m         \u001B[38;5;28;01mraise\u001B[39;00m \u001B[38;5;167;01mValueError\u001B[39;00m(\u001B[38;5;124m\"\u001B[39m\u001B[38;5;124mCannot index with multidimensional key\u001B[39m\u001B[38;5;124m\"\u001B[39m)\n\u001B[0;32m   1191\u001B[0m     \u001B[38;5;28;01mreturn\u001B[39;00m \u001B[38;5;28mself\u001B[39m\u001B[38;5;241m.\u001B[39m_getitem_iterable(key, axis\u001B[38;5;241m=\u001B[39maxis)\n\u001B[0;32m   1193\u001B[0m \u001B[38;5;66;03m# nested tuple slicing\u001B[39;00m\n",
      "\u001B[1;31mValueError\u001B[0m: Cannot index with multidimensional key"
     ]
    }
   ],
   "source": [
    "d = literal_eval(df.loc[0, 'Run list'])\n",
    "d[0]"
   ],
   "metadata": {
    "collapsed": false,
    "pycharm": {
     "name": "#%%\n"
    }
   }
  },
  {
   "cell_type": "code",
   "execution_count": 134,
   "outputs": [
    {
     "data": {
      "text/plain": "ID\n0         [(786432, 26048), (3226912, 3714), (2034988, 6...\n1                                                  [(2, 1)]\n2                                         [(766321, 16384)]\n3                                                      None\n4                                             [(867413, 1)]\n                                ...                        \n119627                                                 None\n119628                                                 None\n119629                                                 None\n119630                                                 None\n119631                                                 None\nName: Run list, Length: 119624, dtype: object"
     },
     "execution_count": 134,
     "metadata": {},
     "output_type": "execute_result"
    }
   ],
   "source": [
    "df['Run list'].fillna('None')"
   ],
   "metadata": {
    "collapsed": false,
    "pycharm": {
     "name": "#%%\n"
    }
   }
  },
  {
   "cell_type": "code",
   "execution_count": 145,
   "outputs": [
    {
     "data": {
      "text/plain": "ID\n0         [(786432, 26048), (3226912, 3714), (2034988, 6...\n1                                                  [(2, 1)]\n2                                         [(766321, 16384)]\n3                                                       NaN\n4                                             [(867413, 1)]\n                                ...                        \n119627                                                  NaN\n119628                                                  NaN\n119629                                                  NaN\n119630                                                  NaN\n119631                                                  NaN\nName: Run list, Length: 119624, dtype: object"
     },
     "execution_count": 145,
     "metadata": {},
     "output_type": "execute_result"
    }
   ],
   "source": [
    "df.loc[df['Run list'] != 'None', 'Run list']"
   ],
   "metadata": {
    "collapsed": false,
    "pycharm": {
     "name": "#%%\n"
    }
   }
  },
  {
   "cell_type": "code",
   "execution_count": 141,
   "outputs": [
    {
     "ename": "SyntaxError",
     "evalue": "expected 'else' after 'if' expression (3224208454.py, line 1)",
     "output_type": "error",
     "traceback": [
      "\u001B[1;36m  Input \u001B[1;32mIn [141]\u001B[1;36m\u001B[0m\n\u001B[1;33m    df['Run list'] = df['Run list'].map(lambda x: literal_eval(x) if x =! 'None' else x)\u001B[0m\n\u001B[1;37m                                                  ^\u001B[0m\n\u001B[1;31mSyntaxError\u001B[0m\u001B[1;31m:\u001B[0m expected 'else' after 'if' expression\n"
     ]
    }
   ],
   "source": [
    "df['Run list'] = df['Run list'].map(lambda x: literal_eval(x) if x != 'None' else x)"
   ],
   "metadata": {
    "collapsed": false,
    "pycharm": {
     "name": "#%%\n"
    }
   }
  },
  {
   "cell_type": "code",
   "execution_count": 140,
   "outputs": [
    {
     "ename": "ValueError",
     "evalue": "malformed node or string: ID\n0         [(786432, 26048), (3226912, 3714), (2034988, 6...\n1                                                  [(2, 1)]\n2                                         [(766321, 16384)]\n3                                                       NaN\n4                                             [(867413, 1)]\n                                ...                        \n119627                                                  NaN\n119628                                                  NaN\n119629                                                  NaN\n119630                                                  NaN\n119631                                                  NaN\nName: Run list, Length: 119624, dtype: object",
     "output_type": "error",
     "traceback": [
      "\u001B[1;31m---------------------------------------------------------------------------\u001B[0m",
      "\u001B[1;31mValueError\u001B[0m                                Traceback (most recent call last)",
      "Input \u001B[1;32mIn [140]\u001B[0m, in \u001B[0;36m<cell line: 1>\u001B[1;34m()\u001B[0m\n\u001B[1;32m----> 1\u001B[0m df_ \u001B[38;5;241m=\u001B[39m \u001B[43mdf\u001B[49m\u001B[43m[\u001B[49m\u001B[43m[\u001B[49m\u001B[38;5;124;43m'\u001B[39;49m\u001B[38;5;124;43mRun list\u001B[39;49m\u001B[38;5;124;43m'\u001B[39;49m\u001B[43m]\u001B[49m\u001B[43m]\u001B[49m\u001B[38;5;241;43m.\u001B[39;49m\u001B[43mapply\u001B[49m\u001B[43m(\u001B[49m\u001B[38;5;28;43;01mlambda\u001B[39;49;00m\u001B[43m \u001B[49m\u001B[43mx\u001B[49m\u001B[43m:\u001B[49m\u001B[43m \u001B[49m\u001B[43mliteral_eval\u001B[49m\u001B[43m(\u001B[49m\u001B[43mx\u001B[49m\u001B[43m)\u001B[49m\u001B[43m \u001B[49m\u001B[38;5;28;43;01mif\u001B[39;49;00m\u001B[43m(\u001B[49m\u001B[38;5;28;43mstr\u001B[39;49m\u001B[43m(\u001B[49m\u001B[43mx\u001B[49m\u001B[43m[\u001B[49m\u001B[38;5;241;43m1\u001B[39;49m\u001B[43m]\u001B[49m\u001B[43m)\u001B[49m\u001B[43m \u001B[49m\u001B[38;5;241;43m!=\u001B[39;49m\u001B[43m \u001B[49m\u001B[38;5;124;43m'\u001B[39;49m\u001B[38;5;124;43mNaN\u001B[39;49m\u001B[38;5;124;43m'\u001B[39;49m\u001B[43m)\u001B[49m\u001B[43m \u001B[49m\u001B[38;5;28;43;01melse\u001B[39;49;00m\u001B[43m \u001B[49m\u001B[43mx\u001B[49m\u001B[43m)\u001B[49m\n",
      "File \u001B[1;32mc:\\users\\celin\\université\\ma2s2\\travail de master\\forensic-tools\\venv\\lib\\site-packages\\pandas\\core\\frame.py:8839\u001B[0m, in \u001B[0;36mDataFrame.apply\u001B[1;34m(self, func, axis, raw, result_type, args, **kwargs)\u001B[0m\n\u001B[0;32m   8828\u001B[0m \u001B[38;5;28;01mfrom\u001B[39;00m \u001B[38;5;21;01mpandas\u001B[39;00m\u001B[38;5;21;01m.\u001B[39;00m\u001B[38;5;21;01mcore\u001B[39;00m\u001B[38;5;21;01m.\u001B[39;00m\u001B[38;5;21;01mapply\u001B[39;00m \u001B[38;5;28;01mimport\u001B[39;00m frame_apply\n\u001B[0;32m   8830\u001B[0m op \u001B[38;5;241m=\u001B[39m frame_apply(\n\u001B[0;32m   8831\u001B[0m     \u001B[38;5;28mself\u001B[39m,\n\u001B[0;32m   8832\u001B[0m     func\u001B[38;5;241m=\u001B[39mfunc,\n\u001B[1;32m   (...)\u001B[0m\n\u001B[0;32m   8837\u001B[0m     kwargs\u001B[38;5;241m=\u001B[39mkwargs,\n\u001B[0;32m   8838\u001B[0m )\n\u001B[1;32m-> 8839\u001B[0m \u001B[38;5;28;01mreturn\u001B[39;00m \u001B[43mop\u001B[49m\u001B[38;5;241;43m.\u001B[39;49m\u001B[43mapply\u001B[49m\u001B[43m(\u001B[49m\u001B[43m)\u001B[49m\u001B[38;5;241m.\u001B[39m__finalize__(\u001B[38;5;28mself\u001B[39m, method\u001B[38;5;241m=\u001B[39m\u001B[38;5;124m\"\u001B[39m\u001B[38;5;124mapply\u001B[39m\u001B[38;5;124m\"\u001B[39m)\n",
      "File \u001B[1;32mc:\\users\\celin\\université\\ma2s2\\travail de master\\forensic-tools\\venv\\lib\\site-packages\\pandas\\core\\apply.py:727\u001B[0m, in \u001B[0;36mFrameApply.apply\u001B[1;34m(self)\u001B[0m\n\u001B[0;32m    724\u001B[0m \u001B[38;5;28;01melif\u001B[39;00m \u001B[38;5;28mself\u001B[39m\u001B[38;5;241m.\u001B[39mraw:\n\u001B[0;32m    725\u001B[0m     \u001B[38;5;28;01mreturn\u001B[39;00m \u001B[38;5;28mself\u001B[39m\u001B[38;5;241m.\u001B[39mapply_raw()\n\u001B[1;32m--> 727\u001B[0m \u001B[38;5;28;01mreturn\u001B[39;00m \u001B[38;5;28;43mself\u001B[39;49m\u001B[38;5;241;43m.\u001B[39;49m\u001B[43mapply_standard\u001B[49m\u001B[43m(\u001B[49m\u001B[43m)\u001B[49m\n",
      "File \u001B[1;32mc:\\users\\celin\\université\\ma2s2\\travail de master\\forensic-tools\\venv\\lib\\site-packages\\pandas\\core\\apply.py:851\u001B[0m, in \u001B[0;36mFrameApply.apply_standard\u001B[1;34m(self)\u001B[0m\n\u001B[0;32m    850\u001B[0m \u001B[38;5;28;01mdef\u001B[39;00m \u001B[38;5;21mapply_standard\u001B[39m(\u001B[38;5;28mself\u001B[39m):\n\u001B[1;32m--> 851\u001B[0m     results, res_index \u001B[38;5;241m=\u001B[39m \u001B[38;5;28;43mself\u001B[39;49m\u001B[38;5;241;43m.\u001B[39;49m\u001B[43mapply_series_generator\u001B[49m\u001B[43m(\u001B[49m\u001B[43m)\u001B[49m\n\u001B[0;32m    853\u001B[0m     \u001B[38;5;66;03m# wrap results\u001B[39;00m\n\u001B[0;32m    854\u001B[0m     \u001B[38;5;28;01mreturn\u001B[39;00m \u001B[38;5;28mself\u001B[39m\u001B[38;5;241m.\u001B[39mwrap_results(results, res_index)\n",
      "File \u001B[1;32mc:\\users\\celin\\université\\ma2s2\\travail de master\\forensic-tools\\venv\\lib\\site-packages\\pandas\\core\\apply.py:867\u001B[0m, in \u001B[0;36mFrameApply.apply_series_generator\u001B[1;34m(self)\u001B[0m\n\u001B[0;32m    864\u001B[0m \u001B[38;5;28;01mwith\u001B[39;00m option_context(\u001B[38;5;124m\"\u001B[39m\u001B[38;5;124mmode.chained_assignment\u001B[39m\u001B[38;5;124m\"\u001B[39m, \u001B[38;5;28;01mNone\u001B[39;00m):\n\u001B[0;32m    865\u001B[0m     \u001B[38;5;28;01mfor\u001B[39;00m i, v \u001B[38;5;129;01min\u001B[39;00m \u001B[38;5;28menumerate\u001B[39m(series_gen):\n\u001B[0;32m    866\u001B[0m         \u001B[38;5;66;03m# ignore SettingWithCopy here in case the user mutates\u001B[39;00m\n\u001B[1;32m--> 867\u001B[0m         results[i] \u001B[38;5;241m=\u001B[39m \u001B[38;5;28;43mself\u001B[39;49m\u001B[38;5;241;43m.\u001B[39;49m\u001B[43mf\u001B[49m\u001B[43m(\u001B[49m\u001B[43mv\u001B[49m\u001B[43m)\u001B[49m\n\u001B[0;32m    868\u001B[0m         \u001B[38;5;28;01mif\u001B[39;00m \u001B[38;5;28misinstance\u001B[39m(results[i], ABCSeries):\n\u001B[0;32m    869\u001B[0m             \u001B[38;5;66;03m# If we have a view on v, we need to make a copy because\u001B[39;00m\n\u001B[0;32m    870\u001B[0m             \u001B[38;5;66;03m#  series_generator will swap out the underlying data\u001B[39;00m\n\u001B[0;32m    871\u001B[0m             results[i] \u001B[38;5;241m=\u001B[39m results[i]\u001B[38;5;241m.\u001B[39mcopy(deep\u001B[38;5;241m=\u001B[39m\u001B[38;5;28;01mFalse\u001B[39;00m)\n",
      "Input \u001B[1;32mIn [140]\u001B[0m, in \u001B[0;36m<lambda>\u001B[1;34m(x)\u001B[0m\n\u001B[1;32m----> 1\u001B[0m df_ \u001B[38;5;241m=\u001B[39m df[[\u001B[38;5;124m'\u001B[39m\u001B[38;5;124mRun list\u001B[39m\u001B[38;5;124m'\u001B[39m]]\u001B[38;5;241m.\u001B[39mapply(\u001B[38;5;28;01mlambda\u001B[39;00m x: \u001B[43mliteral_eval\u001B[49m\u001B[43m(\u001B[49m\u001B[43mx\u001B[49m\u001B[43m)\u001B[49m \u001B[38;5;28;01mif\u001B[39;00m(\u001B[38;5;28mstr\u001B[39m(x[\u001B[38;5;241m1\u001B[39m]) \u001B[38;5;241m!=\u001B[39m \u001B[38;5;124m'\u001B[39m\u001B[38;5;124mNaN\u001B[39m\u001B[38;5;124m'\u001B[39m) \u001B[38;5;28;01melse\u001B[39;00m x)\n",
      "File \u001B[1;32m~\\AppData\\Local\\Programs\\Python\\Python310\\lib\\ast.py:108\u001B[0m, in \u001B[0;36mliteral_eval\u001B[1;34m(node_or_string)\u001B[0m\n\u001B[0;32m    106\u001B[0m                 \u001B[38;5;28;01mreturn\u001B[39;00m left \u001B[38;5;241m-\u001B[39m right\n\u001B[0;32m    107\u001B[0m     \u001B[38;5;28;01mreturn\u001B[39;00m _convert_signed_num(node)\n\u001B[1;32m--> 108\u001B[0m \u001B[38;5;28;01mreturn\u001B[39;00m \u001B[43m_convert\u001B[49m\u001B[43m(\u001B[49m\u001B[43mnode_or_string\u001B[49m\u001B[43m)\u001B[49m\n",
      "File \u001B[1;32m~\\AppData\\Local\\Programs\\Python\\Python310\\lib\\ast.py:107\u001B[0m, in \u001B[0;36mliteral_eval.<locals>._convert\u001B[1;34m(node)\u001B[0m\n\u001B[0;32m    105\u001B[0m         \u001B[38;5;28;01melse\u001B[39;00m:\n\u001B[0;32m    106\u001B[0m             \u001B[38;5;28;01mreturn\u001B[39;00m left \u001B[38;5;241m-\u001B[39m right\n\u001B[1;32m--> 107\u001B[0m \u001B[38;5;28;01mreturn\u001B[39;00m \u001B[43m_convert_signed_num\u001B[49m\u001B[43m(\u001B[49m\u001B[43mnode\u001B[49m\u001B[43m)\u001B[49m\n",
      "File \u001B[1;32m~\\AppData\\Local\\Programs\\Python\\Python310\\lib\\ast.py:81\u001B[0m, in \u001B[0;36mliteral_eval.<locals>._convert_signed_num\u001B[1;34m(node)\u001B[0m\n\u001B[0;32m     79\u001B[0m     \u001B[38;5;28;01melse\u001B[39;00m:\n\u001B[0;32m     80\u001B[0m         \u001B[38;5;28;01mreturn\u001B[39;00m \u001B[38;5;241m-\u001B[39m operand\n\u001B[1;32m---> 81\u001B[0m \u001B[38;5;28;01mreturn\u001B[39;00m \u001B[43m_convert_num\u001B[49m\u001B[43m(\u001B[49m\u001B[43mnode\u001B[49m\u001B[43m)\u001B[49m\n",
      "File \u001B[1;32m~\\AppData\\Local\\Programs\\Python\\Python310\\lib\\ast.py:72\u001B[0m, in \u001B[0;36mliteral_eval.<locals>._convert_num\u001B[1;34m(node)\u001B[0m\n\u001B[0;32m     70\u001B[0m \u001B[38;5;28;01mdef\u001B[39;00m \u001B[38;5;21m_convert_num\u001B[39m(node):\n\u001B[0;32m     71\u001B[0m     \u001B[38;5;28;01mif\u001B[39;00m \u001B[38;5;129;01mnot\u001B[39;00m \u001B[38;5;28misinstance\u001B[39m(node, Constant) \u001B[38;5;129;01mor\u001B[39;00m \u001B[38;5;28mtype\u001B[39m(node\u001B[38;5;241m.\u001B[39mvalue) \u001B[38;5;129;01mnot\u001B[39;00m \u001B[38;5;129;01min\u001B[39;00m (\u001B[38;5;28mint\u001B[39m, \u001B[38;5;28mfloat\u001B[39m, \u001B[38;5;28mcomplex\u001B[39m):\n\u001B[1;32m---> 72\u001B[0m         \u001B[43m_raise_malformed_node\u001B[49m\u001B[43m(\u001B[49m\u001B[43mnode\u001B[49m\u001B[43m)\u001B[49m\n\u001B[0;32m     73\u001B[0m     \u001B[38;5;28;01mreturn\u001B[39;00m node\u001B[38;5;241m.\u001B[39mvalue\n",
      "File \u001B[1;32m~\\AppData\\Local\\Programs\\Python\\Python310\\lib\\ast.py:69\u001B[0m, in \u001B[0;36mliteral_eval.<locals>._raise_malformed_node\u001B[1;34m(node)\u001B[0m\n\u001B[0;32m     67\u001B[0m \u001B[38;5;28;01mif\u001B[39;00m lno \u001B[38;5;241m:=\u001B[39m \u001B[38;5;28mgetattr\u001B[39m(node, \u001B[38;5;124m'\u001B[39m\u001B[38;5;124mlineno\u001B[39m\u001B[38;5;124m'\u001B[39m, \u001B[38;5;28;01mNone\u001B[39;00m):\n\u001B[0;32m     68\u001B[0m     msg \u001B[38;5;241m+\u001B[39m\u001B[38;5;241m=\u001B[39m \u001B[38;5;124mf\u001B[39m\u001B[38;5;124m'\u001B[39m\u001B[38;5;124m on line \u001B[39m\u001B[38;5;132;01m{\u001B[39;00mlno\u001B[38;5;132;01m}\u001B[39;00m\u001B[38;5;124m'\u001B[39m\n\u001B[1;32m---> 69\u001B[0m \u001B[38;5;28;01mraise\u001B[39;00m \u001B[38;5;167;01mValueError\u001B[39;00m(msg \u001B[38;5;241m+\u001B[39m \u001B[38;5;124mf\u001B[39m\u001B[38;5;124m'\u001B[39m\u001B[38;5;124m: \u001B[39m\u001B[38;5;132;01m{\u001B[39;00mnode\u001B[38;5;132;01m!r}\u001B[39;00m\u001B[38;5;124m'\u001B[39m)\n",
      "\u001B[1;31mValueError\u001B[0m: malformed node or string: ID\n0         [(786432, 26048), (3226912, 3714), (2034988, 6...\n1                                                  [(2, 1)]\n2                                         [(766321, 16384)]\n3                                                       NaN\n4                                             [(867413, 1)]\n                                ...                        \n119627                                                  NaN\n119628                                                  NaN\n119629                                                  NaN\n119630                                                  NaN\n119631                                                  NaN\nName: Run list, Length: 119624, dtype: object"
     ]
    }
   ],
   "source": [
    "df_ = df[['Run list']].apply(lambda x: literal_eval(x) if(str(x[1]) != 'NaN') else x)"
   ],
   "metadata": {
    "collapsed": false,
    "pycharm": {
     "name": "#%%\n"
    }
   }
  },
  {
   "cell_type": "code",
   "execution_count": 56,
   "outputs": [
    {
     "name": "stdout",
     "output_type": "stream",
     "text": [
      "There are 121932652 clusters in the volume\n"
     ]
    }
   ],
   "source": [
    "nb_clusters = int(df.loc[8, 'ADS Run list'].split(', ')[1].split(')')[0])\n",
    "print(f'There are {nb_clusters} clusters in the volume')"
   ],
   "metadata": {
    "collapsed": false,
    "pycharm": {
     "name": "#%%\n"
    }
   }
  },
  {
   "cell_type": "code",
   "execution_count": null,
   "outputs": [],
   "source": [
    "b = []\n",
    "# for each row of the dataframe : become a list\n",
    "def allocated(row):\n",
    "    for i in row:\n",
    "        l = list(range(i[0], i[0]+i[1]+1))\n",
    "        b.extend(l)"
   ],
   "metadata": {
    "collapsed": false,
    "pycharm": {
     "name": "#%%\n"
    }
   }
  }
 ],
 "metadata": {
  "kernelspec": {
   "display_name": "Python 3",
   "language": "python",
   "name": "python3"
  },
  "language_info": {
   "codemirror_mode": {
    "name": "ipython",
    "version": 2
   },
   "file_extension": ".py",
   "mimetype": "text/x-python",
   "name": "python",
   "nbconvert_exporter": "python",
   "pygments_lexer": "ipython2",
   "version": "2.7.6"
  }
 },
 "nbformat": 4,
 "nbformat_minor": 0
}